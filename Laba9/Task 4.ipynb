{
 "cells": [
  {
   "cell_type": "markdown",
   "metadata": {},
   "source": [
    "**1. Имеются следующие данные о транзакциях в период с 01.12.2010 по 12.09.2011:**\n",
    "\n",
    "* InvoiceNo — номер транзакции\n",
    "* StockCode — код товара\n",
    "* Description — описание товара\n",
    "* Quantity — количество единиц товара, добавленных в заказ\n",
    "* InvoiceDate — дата транзакции \n",
    "* UnitPrice — цена за единицу товара\n",
    "* CustomerID — id клиента\n",
    "* Country — страна, где проживает клиент\n",
    "\n",
    "**В данной задаче ссылка для считывания данных лежит в переменной path_to_file.\n",
    "Импортируйте пандас и прочитайте данные с кодировкой ISO-8859-1. Запишите полученный датафрейм в retail, а названия колонок сохраните в переменную retail_columns.**"
   ]
  },
  {
   "metadata": {
    "ExecuteTime": {
     "end_time": "2025-05-29T21:06:26.915642Z",
     "start_time": "2025-05-29T21:06:26.529462Z"
    }
   },
   "cell_type": "code",
   "source": [
    "from functools import total_ordering\n",
    "\n",
    "import pandas as pd\n",
    "from numpy.ma.extras import unique\n",
    "\n",
    "patt_to_file = \"data.csv\"\n",
    "retail = pd.read_csv(patt_to_file, encoding=\"ISO-8859-1\")"
   ],
   "outputs": [],
   "execution_count": 24
  },
  {
   "metadata": {
    "ExecuteTime": {
     "end_time": "2025-05-29T21:06:26.930720Z",
     "start_time": "2025-05-29T21:06:26.928269Z"
    }
   },
   "cell_type": "code",
   "source": [
    "retail_columns = retail.columns.tolist()\n",
    "print(retail_columns)"
   ],
   "outputs": [
    {
     "name": "stdout",
     "output_type": "stream",
     "text": [
      "['InvoiceNo', 'StockCode', 'Description', 'Quantity', 'InvoiceDate', 'UnitPrice', 'CustomerID', 'Country']\n"
     ]
    }
   ],
   "execution_count": 25
  },
  {
   "cell_type": "markdown",
   "metadata": {},
   "source": [
    "**2. Проверьте, встречаются ли в данных повторяющиеся наблюдения, и в качестве ответа укажите их количество. Если они есть, то удалите их из retail.**\n",
    "\n",
    "Вам понадобится len(название_колонки) и drop_duplicates()"
   ]
  },
  {
   "metadata": {
    "ExecuteTime": {
     "end_time": "2025-05-29T21:06:27.306176Z",
     "start_time": "2025-05-29T21:06:26.949854Z"
    }
   },
   "cell_type": "code",
   "source": [
    "duplicateCount = len(retail) - len(retail.drop_duplicates())\n",
    "print(f\"Количество дубликатов: {duplicateCount}\")\n",
    "retail = retail.drop_duplicates()\n",
    "retail.head()"
   ],
   "outputs": [
    {
     "name": "stdout",
     "output_type": "stream",
     "text": [
      "Количество дубликатов: 5268\n"
     ]
    },
    {
     "data": {
      "text/plain": [
       "  InvoiceNo StockCode                          Description  Quantity  \\\n",
       "0    536365    85123A   WHITE HANGING HEART T-LIGHT HOLDER         6   \n",
       "1    536365     71053                  WHITE METAL LANTERN         6   \n",
       "2    536365    84406B       CREAM CUPID HEARTS COAT HANGER         8   \n",
       "3    536365    84029G  KNITTED UNION FLAG HOT WATER BOTTLE         6   \n",
       "4    536365    84029E       RED WOOLLY HOTTIE WHITE HEART.         6   \n",
       "\n",
       "      InvoiceDate  UnitPrice  CustomerID         Country  \n",
       "0  12/1/2010 8:26       2.55     17850.0  United Kingdom  \n",
       "1  12/1/2010 8:26       3.39     17850.0  United Kingdom  \n",
       "2  12/1/2010 8:26       2.75     17850.0  United Kingdom  \n",
       "3  12/1/2010 8:26       3.39     17850.0  United Kingdom  \n",
       "4  12/1/2010 8:26       3.39     17850.0  United Kingdom  "
      ],
      "text/html": [
       "<div>\n",
       "<style scoped>\n",
       "    .dataframe tbody tr th:only-of-type {\n",
       "        vertical-align: middle;\n",
       "    }\n",
       "\n",
       "    .dataframe tbody tr th {\n",
       "        vertical-align: top;\n",
       "    }\n",
       "\n",
       "    .dataframe thead th {\n",
       "        text-align: right;\n",
       "    }\n",
       "</style>\n",
       "<table border=\"1\" class=\"dataframe\">\n",
       "  <thead>\n",
       "    <tr style=\"text-align: right;\">\n",
       "      <th></th>\n",
       "      <th>InvoiceNo</th>\n",
       "      <th>StockCode</th>\n",
       "      <th>Description</th>\n",
       "      <th>Quantity</th>\n",
       "      <th>InvoiceDate</th>\n",
       "      <th>UnitPrice</th>\n",
       "      <th>CustomerID</th>\n",
       "      <th>Country</th>\n",
       "    </tr>\n",
       "  </thead>\n",
       "  <tbody>\n",
       "    <tr>\n",
       "      <th>0</th>\n",
       "      <td>536365</td>\n",
       "      <td>85123A</td>\n",
       "      <td>WHITE HANGING HEART T-LIGHT HOLDER</td>\n",
       "      <td>6</td>\n",
       "      <td>12/1/2010 8:26</td>\n",
       "      <td>2.55</td>\n",
       "      <td>17850.0</td>\n",
       "      <td>United Kingdom</td>\n",
       "    </tr>\n",
       "    <tr>\n",
       "      <th>1</th>\n",
       "      <td>536365</td>\n",
       "      <td>71053</td>\n",
       "      <td>WHITE METAL LANTERN</td>\n",
       "      <td>6</td>\n",
       "      <td>12/1/2010 8:26</td>\n",
       "      <td>3.39</td>\n",
       "      <td>17850.0</td>\n",
       "      <td>United Kingdom</td>\n",
       "    </tr>\n",
       "    <tr>\n",
       "      <th>2</th>\n",
       "      <td>536365</td>\n",
       "      <td>84406B</td>\n",
       "      <td>CREAM CUPID HEARTS COAT HANGER</td>\n",
       "      <td>8</td>\n",
       "      <td>12/1/2010 8:26</td>\n",
       "      <td>2.75</td>\n",
       "      <td>17850.0</td>\n",
       "      <td>United Kingdom</td>\n",
       "    </tr>\n",
       "    <tr>\n",
       "      <th>3</th>\n",
       "      <td>536365</td>\n",
       "      <td>84029G</td>\n",
       "      <td>KNITTED UNION FLAG HOT WATER BOTTLE</td>\n",
       "      <td>6</td>\n",
       "      <td>12/1/2010 8:26</td>\n",
       "      <td>3.39</td>\n",
       "      <td>17850.0</td>\n",
       "      <td>United Kingdom</td>\n",
       "    </tr>\n",
       "    <tr>\n",
       "      <th>4</th>\n",
       "      <td>536365</td>\n",
       "      <td>84029E</td>\n",
       "      <td>RED WOOLLY HOTTIE WHITE HEART.</td>\n",
       "      <td>6</td>\n",
       "      <td>12/1/2010 8:26</td>\n",
       "      <td>3.39</td>\n",
       "      <td>17850.0</td>\n",
       "      <td>United Kingdom</td>\n",
       "    </tr>\n",
       "  </tbody>\n",
       "</table>\n",
       "</div>"
      ]
     },
     "execution_count": 26,
     "metadata": {},
     "output_type": "execute_result"
    }
   ],
   "execution_count": 26
  },
  {
   "cell_type": "markdown",
   "metadata": {},
   "source": [
    "**3. Данные содержат в себе записи как об успешных транзакциях, так и об отмененных. Если пользователь отменил заказ, в начале номера транзакции (InvoiceNo) ставится C (canceled).**\n",
    "\n",
    "**Сколько всего транзакций отменили пользователи? Каждый отдельный тип продукта считайте за отдельную транзакцию - уникальные номера считать не надо.**\n",
    "\n",
    "Прежде чем начать, попробуйте метод retail.InvoiceNo.str[0]\n",
    "\n",
    "Далее используйте метод .unique()\n",
    "\n",
    "И сделайте выбоку по retail.loc[retail.InvoiceNo.str[0] == 'C'].shape"
   ]
  },
  {
   "metadata": {
    "ExecuteTime": {
     "end_time": "2025-05-29T21:06:27.436291Z",
     "start_time": "2025-05-29T21:06:27.333932Z"
    }
   },
   "cell_type": "code",
   "source": [
    "canceledTransactionsCount = retail.loc[retail.InvoiceNo.str[0] == \"C\"]\n",
    "print(canceledTransactionsCount)"
   ],
   "outputs": [
    {
     "name": "stdout",
     "output_type": "stream",
     "text": [
      "       InvoiceNo StockCode                       Description  Quantity  \\\n",
      "141      C536379         D                          Discount        -1   \n",
      "154      C536383    35004C   SET OF 3 COLOURED  FLYING DUCKS        -1   \n",
      "235      C536391     22556    PLASTERS IN TIN CIRCUS PARADE        -12   \n",
      "236      C536391     21984  PACK OF 12 PINK PAISLEY TISSUES        -24   \n",
      "237      C536391     21983  PACK OF 12 BLUE PAISLEY TISSUES        -24   \n",
      "...          ...       ...                               ...       ...   \n",
      "540449   C581490     23144   ZINC T-LIGHT HOLDER STARS SMALL       -11   \n",
      "541541   C581499         M                            Manual        -1   \n",
      "541715   C581568     21258        VICTORIAN SEWING BOX LARGE        -5   \n",
      "541716   C581569     84978  HANGING HEART JAR T-LIGHT HOLDER        -1   \n",
      "541717   C581569     20979     36 PENCILS TUBE RED RETROSPOT        -5   \n",
      "\n",
      "            InvoiceDate  UnitPrice  CustomerID         Country  \n",
      "141      12/1/2010 9:41      27.50     14527.0  United Kingdom  \n",
      "154      12/1/2010 9:49       4.65     15311.0  United Kingdom  \n",
      "235     12/1/2010 10:24       1.65     17548.0  United Kingdom  \n",
      "236     12/1/2010 10:24       0.29     17548.0  United Kingdom  \n",
      "237     12/1/2010 10:24       0.29     17548.0  United Kingdom  \n",
      "...                 ...        ...         ...             ...  \n",
      "540449   12/9/2011 9:57       0.83     14397.0  United Kingdom  \n",
      "541541  12/9/2011 10:28     224.69     15498.0  United Kingdom  \n",
      "541715  12/9/2011 11:57      10.95     15311.0  United Kingdom  \n",
      "541716  12/9/2011 11:58       1.25     17315.0  United Kingdom  \n",
      "541717  12/9/2011 11:58       1.25     17315.0  United Kingdom  \n",
      "\n",
      "[9251 rows x 8 columns]\n"
     ]
    }
   ],
   "execution_count": 27
  },
  {
   "metadata": {
    "ExecuteTime": {
     "end_time": "2025-05-29T21:06:27.509059Z",
     "start_time": "2025-05-29T21:06:27.505306Z"
    }
   },
   "cell_type": "code",
   "source": "uniqueCanceledProducts = canceledTransactionsCount[\"StockCode\"].unique()",
   "outputs": [],
   "execution_count": 28
  },
  {
   "metadata": {
    "ExecuteTime": {
     "end_time": "2025-05-29T21:06:27.540849Z",
     "start_time": "2025-05-29T21:06:27.538630Z"
    }
   },
   "cell_type": "code",
   "source": [
    "numberOfCanceledTransactions = len(uniqueCanceledProducts)\n",
    "print(f\"Количество отмененных транзакций: {numberOfCanceledTransactions}\")"
   ],
   "outputs": [
    {
     "name": "stdout",
     "output_type": "stream",
     "text": [
      "Количество отмененных транзакций: 1947\n"
     ]
    }
   ],
   "execution_count": 29
  },
  {
   "cell_type": "markdown",
   "metadata": {},
   "source": [
    "**5.Посчитайте число заказов для каждого пользователя (CustomerID) из Германии (Germany). Оставьте только тех, кто совершил более N транзакций (InvoiceNo), где N – 80% процентиль. Запишите полученные id пользователей в germany_top (не весь датафрейм, только id).**\n",
    "\n",
    "Отфильтрованные данные записаны в retail. Идентификатор заказа – InvoiceNo. Для каждого заказа в данных может встречаться более 1 строки.\n",
    "\n",
    "**Подсказка:**\n",
    "1. Начните с выборки retail.Country == 'Germany', группировки по 'CustomerID' и агрегации total_invoices=('InvoiceNo', 'nunique')\n",
    "2. Далее из полученой выборки из предыдущего шага выподните метод: название_выборки.столбец.quantile(0.8)\n",
    "3. Запишите полученные id пользователей в germany_top"
   ]
  },
  {
   "metadata": {
    "ExecuteTime": {
     "end_time": "2025-05-29T21:09:42.343842Z",
     "start_time": "2025-05-29T21:09:42.280405Z"
    }
   },
   "cell_type": "code",
   "source": [
    "germanyData = retail[retail.Country == \"Germany\"]\n",
    "print(germanyData)"
   ],
   "outputs": [
    {
     "name": "stdout",
     "output_type": "stream",
     "text": [
      "       InvoiceNo StockCode                          Description  Quantity  \\\n",
      "1109      536527     22809              SET OF 6 T-LIGHTS SANTA         6   \n",
      "1110      536527     84347  ROTATING SILVER ANGELS T-LIGHT HLDR         6   \n",
      "1111      536527     84945   MULTI COLOUR SILVER T-LIGHT HOLDER        12   \n",
      "1112      536527     22242        5 HOOK HANGER MAGIC TOADSTOOL        12   \n",
      "1113      536527     22244           3 HOOK HANGER MAGIC GARDEN        12   \n",
      "...          ...       ...                                  ...       ...   \n",
      "541801    581578     22993         SET OF 4 PANTRY JELLY MOULDS        12   \n",
      "541802    581578     22907     PACK OF 20 NAPKINS PANTRY DESIGN        12   \n",
      "541803    581578     22908        PACK OF 20 NAPKINS RED APPLES        12   \n",
      "541804    581578     23215     JINGLE BELL HEART ANTIQUE SILVER        12   \n",
      "541805    581578     22736          RIBBON REEL MAKING SNOWMEN         10   \n",
      "\n",
      "            InvoiceDate  UnitPrice  CustomerID  Country  \n",
      "1109    12/1/2010 13:04       2.95     12662.0  Germany  \n",
      "1110    12/1/2010 13:04       2.55     12662.0  Germany  \n",
      "1111    12/1/2010 13:04       0.85     12662.0  Germany  \n",
      "1112    12/1/2010 13:04       1.65     12662.0  Germany  \n",
      "1113    12/1/2010 13:04       1.95     12662.0  Germany  \n",
      "...                 ...        ...         ...      ...  \n",
      "541801  12/9/2011 12:16       1.25     12713.0  Germany  \n",
      "541802  12/9/2011 12:16       0.85     12713.0  Germany  \n",
      "541803  12/9/2011 12:16       0.85     12713.0  Germany  \n",
      "541804  12/9/2011 12:16       2.08     12713.0  Germany  \n",
      "541805  12/9/2011 12:16       1.65     12713.0  Germany  \n",
      "\n",
      "[9480 rows x 8 columns]\n"
     ]
    }
   ],
   "execution_count": 32
  },
  {
   "metadata": {
    "ExecuteTime": {
     "end_time": "2025-05-29T21:11:08.611697Z",
     "start_time": "2025-05-29T21:11:08.570547Z"
    }
   },
   "cell_type": "code",
   "source": "customerOrders = germanyData.groupby(\"CustomerID\").agg(totalInvoices=(\"InvoiceNo\", \"nunique\")).reset_index()",
   "outputs": [],
   "execution_count": 33
  },
  {
   "metadata": {
    "ExecuteTime": {
     "end_time": "2025-05-29T21:14:53.620634Z",
     "start_time": "2025-05-29T21:14:53.608311Z"
    }
   },
   "cell_type": "code",
   "source": [
    "nThreshold = customerOrders[\"totalInvoices\"].quantile(0.8)\n",
    "print(nThreshold)"
   ],
   "outputs": [
    {
     "name": "stdout",
     "output_type": "stream",
     "text": [
      "9.0\n"
     ]
    }
   ],
   "execution_count": 37
  },
  {
   "metadata": {
    "ExecuteTime": {
     "end_time": "2025-05-29T21:13:26.070732Z",
     "start_time": "2025-05-29T21:13:26.056972Z"
    }
   },
   "cell_type": "code",
   "source": [
    "germanyTop = customerOrders[customerOrders[\"totalInvoices\"] >= nThreshold][\"CustomerID\"]\n",
    "print(germanyTop)"
   ],
   "outputs": [
    {
     "name": "stdout",
     "output_type": "stream",
     "text": [
      "3     12471.0\n",
      "4     12472.0\n",
      "5     12473.0\n",
      "6     12474.0\n",
      "8     12476.0\n",
      "9     12477.0\n",
      "12    12481.0\n",
      "16    12500.0\n",
      "37    12569.0\n",
      "44    12600.0\n",
      "52    12619.0\n",
      "53    12621.0\n",
      "57    12626.0\n",
      "65    12647.0\n",
      "70    12662.0\n",
      "78    12705.0\n",
      "79    12708.0\n",
      "80    12709.0\n",
      "82    12712.0\n",
      "84    12720.0\n",
      "Name: CustomerID, dtype: float64\n"
     ]
    }
   ],
   "execution_count": 36
  },
  {
   "cell_type": "markdown",
   "metadata": {},
   "source": [
    "**6. Используя объект с id пользователей (germany_top), полученный на предыдущем шаге, отфильтруйте наблюдения и оставьте в данных записи только по интересующим нас юзерам. Результирующий датафрейм запишите в top_retail_germany.**\n",
    "\n",
    "Датафрейм записан в retail, нужные id пользователей – в germany_top.\n",
    "\n",
    "**Подсказка**\n",
    "Попробуйте использовать top_retail_germany = retail.loc[retail.CustomerID.isin(germany_top)]"
   ]
  },
  {
   "metadata": {
    "ExecuteTime": {
     "end_time": "2025-05-29T21:17:20.603566Z",
     "start_time": "2025-05-29T21:17:20.570987Z"
    }
   },
   "cell_type": "code",
   "source": [
    "topRetailGermany = retail.loc[retail.CustomerID.isin(germanyTop)]\n",
    "topRetailGermany.head()"
   ],
   "outputs": [
    {
     "data": {
      "text/plain": [
       "     InvoiceNo StockCode                          Description  Quantity  \\\n",
       "1109    536527     22809              SET OF 6 T-LIGHTS SANTA         6   \n",
       "1110    536527     84347  ROTATING SILVER ANGELS T-LIGHT HLDR         6   \n",
       "1111    536527     84945   MULTI COLOUR SILVER T-LIGHT HOLDER        12   \n",
       "1112    536527     22242        5 HOOK HANGER MAGIC TOADSTOOL        12   \n",
       "1113    536527     22244           3 HOOK HANGER MAGIC GARDEN        12   \n",
       "\n",
       "          InvoiceDate  UnitPrice  CustomerID  Country  \n",
       "1109  12/1/2010 13:04       2.95     12662.0  Germany  \n",
       "1110  12/1/2010 13:04       2.55     12662.0  Germany  \n",
       "1111  12/1/2010 13:04       0.85     12662.0  Germany  \n",
       "1112  12/1/2010 13:04       1.65     12662.0  Germany  \n",
       "1113  12/1/2010 13:04       1.95     12662.0  Germany  "
      ],
      "text/html": [
       "<div>\n",
       "<style scoped>\n",
       "    .dataframe tbody tr th:only-of-type {\n",
       "        vertical-align: middle;\n",
       "    }\n",
       "\n",
       "    .dataframe tbody tr th {\n",
       "        vertical-align: top;\n",
       "    }\n",
       "\n",
       "    .dataframe thead th {\n",
       "        text-align: right;\n",
       "    }\n",
       "</style>\n",
       "<table border=\"1\" class=\"dataframe\">\n",
       "  <thead>\n",
       "    <tr style=\"text-align: right;\">\n",
       "      <th></th>\n",
       "      <th>InvoiceNo</th>\n",
       "      <th>StockCode</th>\n",
       "      <th>Description</th>\n",
       "      <th>Quantity</th>\n",
       "      <th>InvoiceDate</th>\n",
       "      <th>UnitPrice</th>\n",
       "      <th>CustomerID</th>\n",
       "      <th>Country</th>\n",
       "    </tr>\n",
       "  </thead>\n",
       "  <tbody>\n",
       "    <tr>\n",
       "      <th>1109</th>\n",
       "      <td>536527</td>\n",
       "      <td>22809</td>\n",
       "      <td>SET OF 6 T-LIGHTS SANTA</td>\n",
       "      <td>6</td>\n",
       "      <td>12/1/2010 13:04</td>\n",
       "      <td>2.95</td>\n",
       "      <td>12662.0</td>\n",
       "      <td>Germany</td>\n",
       "    </tr>\n",
       "    <tr>\n",
       "      <th>1110</th>\n",
       "      <td>536527</td>\n",
       "      <td>84347</td>\n",
       "      <td>ROTATING SILVER ANGELS T-LIGHT HLDR</td>\n",
       "      <td>6</td>\n",
       "      <td>12/1/2010 13:04</td>\n",
       "      <td>2.55</td>\n",
       "      <td>12662.0</td>\n",
       "      <td>Germany</td>\n",
       "    </tr>\n",
       "    <tr>\n",
       "      <th>1111</th>\n",
       "      <td>536527</td>\n",
       "      <td>84945</td>\n",
       "      <td>MULTI COLOUR SILVER T-LIGHT HOLDER</td>\n",
       "      <td>12</td>\n",
       "      <td>12/1/2010 13:04</td>\n",
       "      <td>0.85</td>\n",
       "      <td>12662.0</td>\n",
       "      <td>Germany</td>\n",
       "    </tr>\n",
       "    <tr>\n",
       "      <th>1112</th>\n",
       "      <td>536527</td>\n",
       "      <td>22242</td>\n",
       "      <td>5 HOOK HANGER MAGIC TOADSTOOL</td>\n",
       "      <td>12</td>\n",
       "      <td>12/1/2010 13:04</td>\n",
       "      <td>1.65</td>\n",
       "      <td>12662.0</td>\n",
       "      <td>Germany</td>\n",
       "    </tr>\n",
       "    <tr>\n",
       "      <th>1113</th>\n",
       "      <td>536527</td>\n",
       "      <td>22244</td>\n",
       "      <td>3 HOOK HANGER MAGIC GARDEN</td>\n",
       "      <td>12</td>\n",
       "      <td>12/1/2010 13:04</td>\n",
       "      <td>1.95</td>\n",
       "      <td>12662.0</td>\n",
       "      <td>Germany</td>\n",
       "    </tr>\n",
       "  </tbody>\n",
       "</table>\n",
       "</div>"
      ]
     },
     "execution_count": 39,
     "metadata": {},
     "output_type": "execute_result"
    }
   ],
   "execution_count": 39
  },
  {
   "cell_type": "markdown",
   "metadata": {},
   "source": [
    "**7. Сгруппируйте top_retail_germany по коду товара (StockCode). Какой из продуктов добавляли в корзину чаще всего, кроме POST?** \n",
    "\n",
    "Note: одним заказом считается единовременная покупка любого количества товара, т.е. без учета Quantity."
   ]
  },
  {
   "metadata": {
    "ExecuteTime": {
     "end_time": "2025-05-29T21:33:59.912370Z",
     "start_time": "2025-05-29T21:33:59.879116Z"
    }
   },
   "cell_type": "code",
   "source": [
    "filteredData = topRetailGermany[topRetailGermany.StockCode != \"POST\"]\n",
    "productOrders = filteredData.groupby('StockCode').agg(total_orders=('InvoiceNo', 'nunique')).reset_index()"
   ],
   "outputs": [],
   "execution_count": 48
  },
  {
   "metadata": {
    "ExecuteTime": {
     "end_time": "2025-05-29T21:34:25.377324Z",
     "start_time": "2025-05-29T21:34:25.359273Z"
    }
   },
   "cell_type": "code",
   "source": [
    "mostFrequentProducts = productOrders.loc[productOrders[\"total_orders\"].idxmax()]\n",
    "print(f\"Продукт с кодом '{mostFrequentProducts['StockCode']}' добавляли в корзину {mostFrequentProducts['total_orders']} раз(а).\")"
   ],
   "outputs": [
    {
     "name": "stdout",
     "output_type": "stream",
     "text": [
      "Продукт с кодом '22326' добавляли в корзину 64 раз(а).\n"
     ]
    }
   ],
   "execution_count": 49
  },
  {
   "cell_type": "markdown",
   "metadata": {},
   "source": [
    "**8. Вернемся к анализу полного датасета retail. Создайте колонку Revenue с суммой покупки, используя колонки Quantity и UnitPrice.**\n",
    "\n",
    "Отфильтрованные данные записаны в retail.\n",
    "\n",
    "**Подсказка**\n",
    "retail['новый_столбец'] = retail.старый_столбец_1 * retail.старый_столбец_2"
   ]
  },
  {
   "metadata": {
    "ExecuteTime": {
     "end_time": "2025-05-29T21:37:02.244898Z",
     "start_time": "2025-05-29T21:37:02.219150Z"
    }
   },
   "cell_type": "code",
   "source": [
    "retail[\"Revenue\"] = retail[\"Quantity\"] * retail[\"UnitPrice\"]\n",
    "print(retail[[\"Quantity\", \"UnitPrice\", \"Revenue\"]].head())"
   ],
   "outputs": [
    {
     "name": "stdout",
     "output_type": "stream",
     "text": [
      "   Quantity  UnitPrice  Revenue\n",
      "0         6       2.55    15.30\n",
      "1         6       3.39    20.34\n",
      "2         8       2.75    22.00\n",
      "3         6       3.39    20.34\n",
      "4         6       3.39    20.34\n"
     ]
    }
   ],
   "execution_count": 50
  }
 ],
 "metadata": {
  "kernelspec": {
   "display_name": "Python 3 (ipykernel)",
   "language": "python",
   "name": "python3"
  },
  "language_info": {
   "codemirror_mode": {
    "name": "ipython",
    "version": 3
   },
   "file_extension": ".py",
   "mimetype": "text/x-python",
   "name": "python",
   "nbconvert_exporter": "python",
   "pygments_lexer": "ipython3",
   "version": "3.13.2"
  }
 },
 "nbformat": 4,
 "nbformat_minor": 4
}

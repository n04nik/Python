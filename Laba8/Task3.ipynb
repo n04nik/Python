{
 "metadata": {
  "language_info": {
   "codemirror_mode": {
    "name": "python",
    "version": 3
   },
   "file_extension": ".py",
   "mimetype": "text/x-python",
   "name": "python",
   "nbconvert_exporter": "python",
   "pygments_lexer": "ipython3",
   "version": "3.8"
  },
  "kernelspec": {
   "name": "python3",
   "display_name": "Python 3 (ipykernel)",
   "language": "python"
  }
 },
 "nbformat_minor": 4,
 "nbformat": 4,
 "cells": [
  {
   "cell_type": "markdown",
   "source": "Импортируйте библиотеку pandas как pd. Загрузите два датасета user_data и logs. \nПроверьте размер таблицы, типы переменных.\n\n# Описание данных\n\nuser_data:\n\nclient – идентификатор пользователя\n\npremium – является ли клиент премиум\n\nage – возраст\n\nlogs:\n\nclient – идентификатор пользователя\n\nsuccess – результат (успех - 1, нет - 0)\n\nplatform – платформа\n\ntime – время в формате Unix\n\n\n",
   "metadata": {}
  },
  {
   "cell_type": "markdown",
   "source": "# Задание 1 \n\nВопрос: Сколько уникальных значений принимает переменная platform?",
   "metadata": {}
  },
  {
   "metadata": {
    "ExecuteTime": {
     "end_time": "2025-05-25T16:24:12.899765Z",
     "start_time": "2025-05-25T16:24:05.540269Z"
    }
   },
   "cell_type": "code",
   "source": [
    "from sys import platform\n",
    "\n",
    "import pandas as pd\n",
    "\n",
    "user_data = pd.read_csv('3_user_data.csv')\n",
    "logs = pd.read_csv('3_logs.csv')"
   ],
   "outputs": [],
   "execution_count": 1
  },
  {
   "metadata": {
    "ExecuteTime": {
     "end_time": "2025-05-25T16:24:56.397722Z",
     "start_time": "2025-05-25T16:24:56.379605Z"
    }
   },
   "cell_type": "code",
   "source": [
    "user_data.shape\n",
    "logs.shape"
   ],
   "outputs": [
    {
     "data": {
      "text/plain": [
       "(4500, 4)"
      ]
     },
     "execution_count": 2,
     "metadata": {},
     "output_type": "execute_result"
    }
   ],
   "execution_count": 2
  },
  {
   "metadata": {
    "ExecuteTime": {
     "end_time": "2025-05-25T16:25:21.691850Z",
     "start_time": "2025-05-25T16:25:21.678612Z"
    }
   },
   "cell_type": "code",
   "source": "user_data.dtypes",
   "outputs": [
    {
     "data": {
      "text/plain": [
       "client     int64\n",
       "premium     bool\n",
       "age        int64\n",
       "dtype: object"
      ]
     },
     "execution_count": 3,
     "metadata": {},
     "output_type": "execute_result"
    }
   ],
   "execution_count": 3
  },
  {
   "metadata": {
    "ExecuteTime": {
     "end_time": "2025-05-25T16:25:32.130287Z",
     "start_time": "2025-05-25T16:25:32.110394Z"
    }
   },
   "cell_type": "code",
   "source": "logs.dtypes",
   "outputs": [
    {
     "data": {
      "text/plain": [
       "client       int64\n",
       "success       bool\n",
       "platform    object\n",
       "time         int64\n",
       "dtype: object"
      ]
     },
     "execution_count": 4,
     "metadata": {},
     "output_type": "execute_result"
    }
   ],
   "execution_count": 4
  },
  {
   "metadata": {
    "ExecuteTime": {
     "end_time": "2025-05-25T16:25:56.477477Z",
     "start_time": "2025-05-25T16:25:56.469364Z"
    }
   },
   "cell_type": "code",
   "source": "logs.columns",
   "outputs": [
    {
     "data": {
      "text/plain": [
       "Index(['client', 'success', 'platform', 'time'], dtype='object')"
      ]
     },
     "execution_count": 5,
     "metadata": {},
     "output_type": "execute_result"
    }
   ],
   "execution_count": 5
  },
  {
   "metadata": {
    "ExecuteTime": {
     "end_time": "2025-05-25T16:30:45.670940Z",
     "start_time": "2025-05-25T16:30:45.657465Z"
    }
   },
   "cell_type": "code",
   "source": [
    "unique_platforms_logs = logs['platform'].unique()\n",
    "print(unique_platforms_logs.size)"
   ],
   "outputs": [
    {
     "name": "stdout",
     "output_type": "stream",
     "text": [
      "3\n"
     ]
    }
   ],
   "execution_count": 13
  },
  {
   "cell_type": "markdown",
   "source": "# Задание 2\n\nС какой платформы осуществляется наибольшее количество успешных операций? (success == True)\n\n\nПодсказка: вспомните команды из прошлого занятия \n\nНазвание_датафрейма.query('success == True').platform.value_counts()\n\nа еще команда idxmax()",
   "metadata": {}
  },
  {
   "metadata": {
    "ExecuteTime": {
     "end_time": "2025-05-25T16:34:47.837438Z",
     "start_time": "2025-05-25T16:34:47.814346Z"
    }
   },
   "cell_type": "code",
   "source": [
    "successful_operation = logs.query('success == True')\n",
    "platform_counts = successful_operation['platform'].value_counts()\n",
    "most_successful_platform = platform_counts.idxmax()\n",
    "platform_counts"
   ],
   "outputs": [
    {
     "data": {
      "text/plain": [
       "platform\n",
       "phone       2019\n",
       "computer    1090\n",
       "tablet       180\n",
       "Name: count, dtype: int64"
      ]
     },
     "execution_count": 19,
     "metadata": {},
     "output_type": "execute_result"
    }
   ],
   "execution_count": 19
  },
  {
   "metadata": {
    "ExecuteTime": {
     "end_time": "2025-05-25T16:34:55.635795Z",
     "start_time": "2025-05-25T16:34:55.627706Z"
    }
   },
   "cell_type": "code",
   "source": "most_successful_platform",
   "outputs": [
    {
     "data": {
      "text/plain": [
       "'phone'"
      ]
     },
     "execution_count": 20,
     "metadata": {},
     "output_type": "execute_result"
    }
   ],
   "execution_count": 20
  },
  {
   "cell_type": "markdown",
   "source": "# Задание 3\n\nКакой клиент совершил больше всего успешных операций?\n\nВнимание: Несколько пользователей могли совершить одинаковое число успешных действий\n\nПодсказка: вспомните команды из прошлого урока \n\nНазвание_датафрейма.query('success == True').client.value_counts()\n\nтакже поможет команда max()",
   "metadata": {}
  },
  {
   "metadata": {
    "ExecuteTime": {
     "end_time": "2025-05-25T16:35:51.744567Z",
     "start_time": "2025-05-25T16:35:51.726472Z"
    }
   },
   "cell_type": "code",
   "source": [
    "client_counts = successful_operation['client'].value_counts()\n",
    "most_successful_client = client_counts.idxmax()\n",
    "client_counts"
   ],
   "outputs": [
    {
     "data": {
      "text/plain": [
       "client\n",
       "28719    41\n",
       "52870    41\n",
       "61468    41\n",
       "61473    41\n",
       "12179    41\n",
       "         ..\n",
       "70028     1\n",
       "37123     1\n",
       "73522     1\n",
       "38359     1\n",
       "40921     1\n",
       "Name: count, Length: 2845, dtype: int64"
      ]
     },
     "execution_count": 21,
     "metadata": {},
     "output_type": "execute_result"
    }
   ],
   "execution_count": 21
  },
  {
   "metadata": {
    "ExecuteTime": {
     "end_time": "2025-05-25T16:36:09.377237Z",
     "start_time": "2025-05-25T16:36:09.368445Z"
    }
   },
   "cell_type": "code",
   "source": "most_successful_client",
   "outputs": [
    {
     "data": {
      "text/plain": [
       "np.int64(28719)"
      ]
     },
     "execution_count": 22,
     "metadata": {},
     "output_type": "execute_result"
    }
   ],
   "execution_count": 22
  },
  {
   "cell_type": "markdown",
   "source": "# Задание 4\n\nОбъедините два датафрейма в один по столбцу 'client'\n\nПодсказка: Название_датафрейма_1.merge(Название_датафрейма_2, on='client')",
   "metadata": {}
  },
  {
   "metadata": {
    "ExecuteTime": {
     "end_time": "2025-05-25T16:37:11.589369Z",
     "start_time": "2025-05-25T16:37:11.561775Z"
    }
   },
   "cell_type": "code",
   "source": [
    "merged_df = user_data.merge(logs, on='client')\n",
    "merged_df.head()"
   ],
   "outputs": [
    {
     "data": {
      "text/plain": [
       "   client  premium  age  success  platform        time\n",
       "0   46346    False   58     True     phone  1585452839\n",
       "1    4391    False   55    False     phone  1585409861\n",
       "2   27372    False   64    False     phone  1585446018\n",
       "3   11989    False   44     True  computer  1585403698\n",
       "4   60664    False   49     True     phone  1585406918"
      ],
      "text/html": [
       "<div>\n",
       "<style scoped>\n",
       "    .dataframe tbody tr th:only-of-type {\n",
       "        vertical-align: middle;\n",
       "    }\n",
       "\n",
       "    .dataframe tbody tr th {\n",
       "        vertical-align: top;\n",
       "    }\n",
       "\n",
       "    .dataframe thead th {\n",
       "        text-align: right;\n",
       "    }\n",
       "</style>\n",
       "<table border=\"1\" class=\"dataframe\">\n",
       "  <thead>\n",
       "    <tr style=\"text-align: right;\">\n",
       "      <th></th>\n",
       "      <th>client</th>\n",
       "      <th>premium</th>\n",
       "      <th>age</th>\n",
       "      <th>success</th>\n",
       "      <th>platform</th>\n",
       "      <th>time</th>\n",
       "    </tr>\n",
       "  </thead>\n",
       "  <tbody>\n",
       "    <tr>\n",
       "      <th>0</th>\n",
       "      <td>46346</td>\n",
       "      <td>False</td>\n",
       "      <td>58</td>\n",
       "      <td>True</td>\n",
       "      <td>phone</td>\n",
       "      <td>1585452839</td>\n",
       "    </tr>\n",
       "    <tr>\n",
       "      <th>1</th>\n",
       "      <td>4391</td>\n",
       "      <td>False</td>\n",
       "      <td>55</td>\n",
       "      <td>False</td>\n",
       "      <td>phone</td>\n",
       "      <td>1585409861</td>\n",
       "    </tr>\n",
       "    <tr>\n",
       "      <th>2</th>\n",
       "      <td>27372</td>\n",
       "      <td>False</td>\n",
       "      <td>64</td>\n",
       "      <td>False</td>\n",
       "      <td>phone</td>\n",
       "      <td>1585446018</td>\n",
       "    </tr>\n",
       "    <tr>\n",
       "      <th>3</th>\n",
       "      <td>11989</td>\n",
       "      <td>False</td>\n",
       "      <td>44</td>\n",
       "      <td>True</td>\n",
       "      <td>computer</td>\n",
       "      <td>1585403698</td>\n",
       "    </tr>\n",
       "    <tr>\n",
       "      <th>4</th>\n",
       "      <td>60664</td>\n",
       "      <td>False</td>\n",
       "      <td>49</td>\n",
       "      <td>True</td>\n",
       "      <td>phone</td>\n",
       "      <td>1585406918</td>\n",
       "    </tr>\n",
       "  </tbody>\n",
       "</table>\n",
       "</div>"
      ]
     },
     "execution_count": 23,
     "metadata": {},
     "output_type": "execute_result"
    }
   ],
   "execution_count": 23
  },
  {
   "cell_type": "markdown",
   "source": "# Задание 5\n\nКакая платформа наиболее популярна среди премиумных клиентов? (premium == True)",
   "metadata": {}
  },
  {
   "metadata": {
    "ExecuteTime": {
     "end_time": "2025-05-25T16:39:38.568440Z",
     "start_time": "2025-05-25T16:39:38.543494Z"
    }
   },
   "cell_type": "code",
   "source": [
    "premium_clients = user_data.query('premium == True')\n",
    "premium_logs = premium_clients.merge(logs, on='client')\n",
    "\n",
    "premium_platform_counts = premium_logs['platform'].value_counts()\n",
    "most_popular_platform = premium_platform_counts.idxmax()\n",
    "premium_platform_counts\n"
   ],
   "outputs": [
    {
     "data": {
      "text/plain": [
       "platform\n",
       "phone       246\n",
       "computer    150\n",
       "tablet       24\n",
       "Name: count, dtype: int64"
      ]
     },
     "execution_count": 24,
     "metadata": {},
     "output_type": "execute_result"
    }
   ],
   "execution_count": 24
  },
  {
   "metadata": {
    "ExecuteTime": {
     "end_time": "2025-05-25T16:40:04.319327Z",
     "start_time": "2025-05-25T16:40:04.306963Z"
    }
   },
   "cell_type": "code",
   "source": "most_popular_platform",
   "outputs": [
    {
     "data": {
      "text/plain": [
       "'phone'"
      ]
     },
     "execution_count": 25,
     "metadata": {},
     "output_type": "execute_result"
    }
   ],
   "execution_count": 25
  },
  {
   "cell_type": "markdown",
   "source": "# Задание 6\n\nСделайте выборку для премиальных клиентов (premium` == True) и для непримеальных.\n\nНа основе этих выборок постройте графики, первый - отображающий популярность использования различных платформ (столбец \"platform\") у премиальных пользователей и второй - платформы сради непримиальных пользователей. \n\nПодсказка: используйте sns.countplot(x=название_выборки[\"столбец\"])",
   "metadata": {}
  },
  {
   "metadata": {
    "ExecuteTime": {
     "end_time": "2025-05-25T16:44:40.870163Z",
     "start_time": "2025-05-25T16:44:40.526982Z"
    }
   },
   "cell_type": "code",
   "source": [
    "import seaborn as sns\n",
    "import matplotlib.pyplot as plt"
   ],
   "outputs": [],
   "execution_count": 31
  },
  {
   "metadata": {
    "ExecuteTime": {
     "end_time": "2025-05-25T16:44:42.038299Z",
     "start_time": "2025-05-25T16:44:41.954473Z"
    }
   },
   "cell_type": "code",
   "source": [
    "premium_clients = user_data.query('premium == True')\n",
    "premium_logs = premium_clients.merge(logs, on='client')\n",
    "\n",
    "non_premium_clients = user_data.query('premium == False')\n",
    "non_premium_logs = non_premium_clients.merge(logs, on='client')\n",
    "\n",
    "plt.figure(figsize=(10, 5))\n",
    "sns.countplot(x=premium_logs['platform'])\n",
    "plt.title('Популярные платформы среди премиальных клиентов')\n",
    "plt.show()"
   ],
   "outputs": [
    {
     "data": {
      "text/plain": [
       "<Figure size 1000x500 with 1 Axes>"
      ],
      "image/png": "[encoded data removed]"
     },
     "metadata": {},
     "output_type": "display_data"
    }
   ],
   "execution_count": 32
  },
  {
   "metadata": {
    "ExecuteTime": {
     "end_time": "2025-05-25T16:46:13.368646Z",
     "start_time": "2025-05-25T16:46:13.291831Z"
    }
   },
   "cell_type": "code",
   "source": [
    "plt.figure(figsize=(10, 5))\n",
    "sns.countplot(x=non_premium_logs['platform'])\n",
    "plt.title('Популярные платформы среди не премиальных клиентов')\n",
    "plt.show()"
   ],
   "outputs": [
    {
     "data": {
      "text/plain": [
       "<Figure size 1000x500 with 1 Axes>"
      ],
      "image/png": "[encoded data removed]"
     },
     "metadata": {},
     "output_type": "display_data"
    }
   ],
   "execution_count": 33
  },
  {
   "cell_type": "markdown",
   "source": "# Задание 7\n\nВизуализируйте число успешных операций, сделанных на платформе computer, в зависимости от возраста, используя sns.countplot. По оси x – возраст, y – число успешных операций. \n\nЕсли размер графика получается небольшим, можно добавить plt.figure(figsize=(12, 8)) в начало соответствующей ячейки.\n\nПодсказка: sns.countplot(data=Название_Датафрейма.loc[(Название_Датафрейма.platform == 'computer')\n                                   & (Название_Датафрейма.success == True)], x='age')",
   "metadata": {}
  },
  {
   "metadata": {
    "ExecuteTime": {
     "end_time": "2025-05-25T16:50:35.007847Z",
     "start_time": "2025-05-25T16:50:34.872078Z"
    }
   },
   "cell_type": "code",
   "source": [
    "merged_df = logs.merge(user_data[['client', 'age']], on='client')\n",
    "computer_success = merged_df.loc[(merged_df['platform'] == 'computer') & (merged_df['success'] == True)]\n",
    "plt.figure(figsize=(16, 10))\n",
    "sns.countplot(x='age', data=computer_success)\n",
    "plt.title('Число успешных операций на компьютере в разрезе по возрасту')\n",
    "plt.xlabel('Age')\n",
    "plt.ylabel('Count')\n",
    "plt.show()"
   ],
   "outputs": [
    {
     "data": {
      "text/plain": [
       "<Figure size 1600x1000 with 1 Axes>"
      ],
      "image/png": "[encoded data removed]"
     },
     "metadata": {},
     "output_type": "display_data"
    }
   ],
   "execution_count": 34
  },
  {
   "cell_type": "code",
   "source": [
    "import matplotlib.pyplot as plt\n",
    "\n",
    "plt.figure(figsize=(16, 10))\n",
    "sns.countplot(x='age', data=premium_logs.loc[(premium_logs.platform == 'computer')&(premium_logs.success == True)])\n",
    "sns.despine()\n"
   ],
   "metadata": {
    "ExecuteTime": {
     "end_time": "2025-05-25T16:55:40.594382Z",
     "start_time": "2025-05-25T16:55:40.474833Z"
    }
   },
   "outputs": [
    {
     "data": {
      "text/plain": [
       "<Figure size 1600x1000 with 1 Axes>"
      ],
      "image/png": "[encoded data removed]"
     },
     "metadata": {},
     "output_type": "display_data"
    }
   ],
   "execution_count": 37
  }
 ]
}

{
  "metadata": {
    "kernelspec": {
      "name": "python",
      "display_name": "Python (Pyodide)",
      "language": "python"
    },
    "language_info": {
      "codemirror_mode": {
        "name": "python",
        "version": 3
      },
      "file_extension": ".py",
      "mimetype": "text/x-python",
      "name": "python",
      "nbconvert_exporter": "python",
      "pygments_lexer": "ipython3",
      "version": "3.8"
    }
  },
  "nbformat_minor": 5,
  "nbformat": 4,
  "cells": [
    {
      "id": "781080f2",
      "cell_type": "markdown",
      "source": "# Знакомство с Pandas.",
      "metadata": {}
    },
    {
      "id": "48045672",
      "cell_type": "markdown",
      "source": "**1. В следующих степах потренируемся использовать изученные функции.**\n\n**Начнем с простого вопроса: что произойдет в результате выполнения следующей команды?**\n```python\nimport pandas as pnds\n```\n* Сможем использовать библиотеку pandas, обращаясь и как pandas, и как pnds\n* Вовсе не сможем использовать библиотеку, потому что использовали сокращение pnds, а не pd\n* **Сможем использовать библиотеку pandas, обращаясь к ней как pnds**",
      "metadata": {}
    },
    {
      "id": "4a020a5d-c7f6-47c5-a916-99379ee2a598",
      "cell_type": "code",
      "source": "import pandas as pd",
      "metadata": {
        "trusted": true
      },
      "outputs": [],
      "execution_count": 2
    },
    {
      "id": "9edfd6ad",
      "cell_type": "markdown",
      "source": "**2. Отлично! Теперь поработаем с данными о поездках на такси в Нью-Йорке, где также имеется информация о погодных условиях и выходных днях.**  \n\n* pickup_dt – период с точностью до часа\n\n* pickup_month – месяц\n\n* borough – район Нью-Йорка, из которого был сделан заказ (5 районов + аэропорт)\n\n* pickups – число поездок за период (час)\n\n* hday – является ли день праздничным/выходным; Y - да,  N - нет\n\n* spd – скорость ветра в милях в час\n\n* vsb – видимость\n\n* temp – температура в градусах Фаренгейта\n\n* dewp – точка росы по Фаренгейту\n\n* slp – давление\n\n* pcp_01 – количество осадков за час\n\n* pcp_06 – количество осадков за 6 часов\n\n* pcp_24 – количество осадков за 24 часа\n\n* sd – глубина снега в дюймах\n      \n\n**Но перед тем, как приступать к работе, давайте загрузим данные. К данным лежит в переменной path_to_file (условно, path_to_file = \"/some/path/to/file.csv\"). Импортируйте библиотеку pandas, а затем загрузите данные по вышеупомянутой ссылке. **\n\n**Результат сохраните в переменную taxi.**",
      "metadata": {}
    },
    {
      "id": "50d424e8",
      "cell_type": "code",
      "source": "df = pd.read_csv('2_taxi_nyc.csv', \n                 encoding='windows-1251', sep=',')",
      "metadata": {
        "trusted": true
      },
      "outputs": [],
      "execution_count": 3
    },
    {
      "id": "56b17b38-8d8a-476a-b77a-39a5f956be0a",
      "cell_type": "code",
      "source": "df.head()",
      "metadata": {
        "trusted": true
      },
      "outputs": [
        {
          "execution_count": 4,
          "output_type": "execute_result",
          "data": {
            "text/plain": "             pickup_dt pickup_month    borough  pickups hday  spd   vsb  temp  \\\n0  2015-01-01 01:00:00          Jan      Bronx      152    Y  5.0  10.0  30.0   \n1  2015-01-01 01:00:00          Jan   Brooklyn     1519    Y  5.0  10.0  30.0   \n2  2015-01-01 01:00:00          Jan        EWR        0    Y  5.0  10.0  30.0   \n3  2015-01-01 01:00:00          Jan  Manhattan     5258    Y  5.0  10.0  30.0   \n4  2015-01-01 01:00:00          Jan     Queens      405    Y  5.0  10.0  30.0   \n\n   dewp     slp  pcp 01  pcp 06  pcp 24   sd  \n0   7.0  1023.5     0.0     0.0     0.0  0.0  \n1   7.0  1023.5     0.0     0.0     0.0  0.0  \n2   7.0  1023.5     0.0     0.0     0.0  0.0  \n3   7.0  1023.5     0.0     0.0     0.0  0.0  \n4   7.0  1023.5     0.0     0.0     0.0  0.0  ",
            "text/html": "<div>\n<style scoped>\n    .dataframe tbody tr th:only-of-type {\n        vertical-align: middle;\n    }\n\n    .dataframe tbody tr th {\n        vertical-align: top;\n    }\n\n    .dataframe thead th {\n        text-align: right;\n    }\n</style>\n<table border=\"1\" class=\"dataframe\">\n  <thead>\n    <tr style=\"text-align: right;\">\n      <th></th>\n      <th>pickup_dt</th>\n      <th>pickup_month</th>\n      <th>borough</th>\n      <th>pickups</th>\n      <th>hday</th>\n      <th>spd</th>\n      <th>vsb</th>\n      <th>temp</th>\n      <th>dewp</th>\n      <th>slp</th>\n      <th>pcp 01</th>\n      <th>pcp 06</th>\n      <th>pcp 24</th>\n      <th>sd</th>\n    </tr>\n  </thead>\n  <tbody>\n    <tr>\n      <th>0</th>\n      <td>2015-01-01 01:00:00</td>\n      <td>Jan</td>\n      <td>Bronx</td>\n      <td>152</td>\n      <td>Y</td>\n      <td>5.0</td>\n      <td>10.0</td>\n      <td>30.0</td>\n      <td>7.0</td>\n      <td>1023.5</td>\n      <td>0.0</td>\n      <td>0.0</td>\n      <td>0.0</td>\n      <td>0.0</td>\n    </tr>\n    <tr>\n      <th>1</th>\n      <td>2015-01-01 01:00:00</td>\n      <td>Jan</td>\n      <td>Brooklyn</td>\n      <td>1519</td>\n      <td>Y</td>\n      <td>5.0</td>\n      <td>10.0</td>\n      <td>30.0</td>\n      <td>7.0</td>\n      <td>1023.5</td>\n      <td>0.0</td>\n      <td>0.0</td>\n      <td>0.0</td>\n      <td>0.0</td>\n    </tr>\n    <tr>\n      <th>2</th>\n      <td>2015-01-01 01:00:00</td>\n      <td>Jan</td>\n      <td>EWR</td>\n      <td>0</td>\n      <td>Y</td>\n      <td>5.0</td>\n      <td>10.0</td>\n      <td>30.0</td>\n      <td>7.0</td>\n      <td>1023.5</td>\n      <td>0.0</td>\n      <td>0.0</td>\n      <td>0.0</td>\n      <td>0.0</td>\n    </tr>\n    <tr>\n      <th>3</th>\n      <td>2015-01-01 01:00:00</td>\n      <td>Jan</td>\n      <td>Manhattan</td>\n      <td>5258</td>\n      <td>Y</td>\n      <td>5.0</td>\n      <td>10.0</td>\n      <td>30.0</td>\n      <td>7.0</td>\n      <td>1023.5</td>\n      <td>0.0</td>\n      <td>0.0</td>\n      <td>0.0</td>\n      <td>0.0</td>\n    </tr>\n    <tr>\n      <th>4</th>\n      <td>2015-01-01 01:00:00</td>\n      <td>Jan</td>\n      <td>Queens</td>\n      <td>405</td>\n      <td>Y</td>\n      <td>5.0</td>\n      <td>10.0</td>\n      <td>30.0</td>\n      <td>7.0</td>\n      <td>1023.5</td>\n      <td>0.0</td>\n      <td>0.0</td>\n      <td>0.0</td>\n      <td>0.0</td>\n    </tr>\n  </tbody>\n</table>\n</div>"
          },
          "metadata": {}
        }
      ],
      "execution_count": 4
    },
    {
      "id": "2b104f91",
      "cell_type": "markdown",
      "source": "**3. Проверьте, сколько всего строк и столбцов имеется в датасете.**\n\n* **29101 строка, 14 столбцов**",
      "metadata": {}
    },
    {
      "id": "01dc251f-11c3-4ce6-83a1-0fbb3b2d87a6",
      "cell_type": "code",
      "source": "df.shape",
      "metadata": {
        "trusted": true
      },
      "outputs": [
        {
          "execution_count": 5,
          "output_type": "execute_result",
          "data": {
            "text/plain": "(29101, 14)"
          },
          "metadata": {}
        }
      ],
      "execution_count": 5
    },
    {
      "id": "837fabbc-aa39-4622-bae9-408e58681968",
      "cell_type": "code",
      "source": "df.describe()",
      "metadata": {
        "trusted": true
      },
      "outputs": [
        {
          "execution_count": 6,
          "output_type": "execute_result",
          "data": {
            "text/plain": "            pickups           spd           vsb          temp          dewp  \\\ncount  29101.000000  29101.000000  29101.000000  29101.000000  29101.000000   \nmean     490.215903      5.984924      8.818125     47.669042     30.823065   \nstd      995.649536      3.699007      2.442897     19.814969     21.283444   \nmin        0.000000      0.000000      0.000000      2.000000    -16.000000   \n25%        1.000000      3.000000      9.100000     32.000000     14.000000   \n50%       54.000000      6.000000     10.000000     46.000000     30.000000   \n75%      449.000000      8.000000     10.000000     64.500000     50.000000   \nmax     7883.000000     21.000000     10.000000     89.000000     73.000000   \n\n                slp        pcp 01        pcp 06        pcp 24            sd  \ncount  29101.000000  29101.000000  29101.000000  29101.000000  29101.000000  \nmean    1017.817938      0.003830      0.026129      0.090464      2.529169  \nstd        7.768796      0.018933      0.093125      0.219402      4.520325  \nmin      991.400000      0.000000      0.000000      0.000000      0.000000  \n25%     1012.500000      0.000000      0.000000      0.000000      0.000000  \n50%     1018.200000      0.000000      0.000000      0.000000      0.000000  \n75%     1022.900000      0.000000      0.000000      0.050000      2.958333  \nmax     1043.400000      0.280000      1.240000      2.100000     19.000000  ",
            "text/html": "<div>\n<style scoped>\n    .dataframe tbody tr th:only-of-type {\n        vertical-align: middle;\n    }\n\n    .dataframe tbody tr th {\n        vertical-align: top;\n    }\n\n    .dataframe thead th {\n        text-align: right;\n    }\n</style>\n<table border=\"1\" class=\"dataframe\">\n  <thead>\n    <tr style=\"text-align: right;\">\n      <th></th>\n      <th>pickups</th>\n      <th>spd</th>\n      <th>vsb</th>\n      <th>temp</th>\n      <th>dewp</th>\n      <th>slp</th>\n      <th>pcp 01</th>\n      <th>pcp 06</th>\n      <th>pcp 24</th>\n      <th>sd</th>\n    </tr>\n  </thead>\n  <tbody>\n    <tr>\n      <th>count</th>\n      <td>29101.000000</td>\n      <td>29101.000000</td>\n      <td>29101.000000</td>\n      <td>29101.000000</td>\n      <td>29101.000000</td>\n      <td>29101.000000</td>\n      <td>29101.000000</td>\n      <td>29101.000000</td>\n      <td>29101.000000</td>\n      <td>29101.000000</td>\n    </tr>\n    <tr>\n      <th>mean</th>\n      <td>490.215903</td>\n      <td>5.984924</td>\n      <td>8.818125</td>\n      <td>47.669042</td>\n      <td>30.823065</td>\n      <td>1017.817938</td>\n      <td>0.003830</td>\n      <td>0.026129</td>\n      <td>0.090464</td>\n      <td>2.529169</td>\n    </tr>\n    <tr>\n      <th>std</th>\n      <td>995.649536</td>\n      <td>3.699007</td>\n      <td>2.442897</td>\n      <td>19.814969</td>\n      <td>21.283444</td>\n      <td>7.768796</td>\n      <td>0.018933</td>\n      <td>0.093125</td>\n      <td>0.219402</td>\n      <td>4.520325</td>\n    </tr>\n    <tr>\n      <th>min</th>\n      <td>0.000000</td>\n      <td>0.000000</td>\n      <td>0.000000</td>\n      <td>2.000000</td>\n      <td>-16.000000</td>\n      <td>991.400000</td>\n      <td>0.000000</td>\n      <td>0.000000</td>\n      <td>0.000000</td>\n      <td>0.000000</td>\n    </tr>\n    <tr>\n      <th>25%</th>\n      <td>1.000000</td>\n      <td>3.000000</td>\n      <td>9.100000</td>\n      <td>32.000000</td>\n      <td>14.000000</td>\n      <td>1012.500000</td>\n      <td>0.000000</td>\n      <td>0.000000</td>\n      <td>0.000000</td>\n      <td>0.000000</td>\n    </tr>\n    <tr>\n      <th>50%</th>\n      <td>54.000000</td>\n      <td>6.000000</td>\n      <td>10.000000</td>\n      <td>46.000000</td>\n      <td>30.000000</td>\n      <td>1018.200000</td>\n      <td>0.000000</td>\n      <td>0.000000</td>\n      <td>0.000000</td>\n      <td>0.000000</td>\n    </tr>\n    <tr>\n      <th>75%</th>\n      <td>449.000000</td>\n      <td>8.000000</td>\n      <td>10.000000</td>\n      <td>64.500000</td>\n      <td>50.000000</td>\n      <td>1022.900000</td>\n      <td>0.000000</td>\n      <td>0.000000</td>\n      <td>0.050000</td>\n      <td>2.958333</td>\n    </tr>\n    <tr>\n      <th>max</th>\n      <td>7883.000000</td>\n      <td>21.000000</td>\n      <td>10.000000</td>\n      <td>89.000000</td>\n      <td>73.000000</td>\n      <td>1043.400000</td>\n      <td>0.280000</td>\n      <td>1.240000</td>\n      <td>2.100000</td>\n      <td>19.000000</td>\n    </tr>\n  </tbody>\n</table>\n</div>"
          },
          "metadata": {}
        }
      ],
      "execution_count": 6
    },
    {
      "id": "0c04e8ea",
      "cell_type": "markdown",
      "source": "**4. Давайте посмотрим на типы колонок. Все ли из них считались правильно? В качестве ответа выберите тип, преобладающий в датасете.**\n\n* int64\n* **float64**\n* datetime64\n* object",
      "metadata": {}
    },
    {
      "id": "1197f154-c169-493e-8f17-6b8095231d09",
      "cell_type": "code",
      "source": "df.dtypes",
      "metadata": {
        "trusted": true
      },
      "outputs": [
        {
          "execution_count": 7,
          "output_type": "execute_result",
          "data": {
            "text/plain": "pickup_dt        object\npickup_month     object\nborough          object\npickups           int64\nhday             object\nspd             float64\nvsb             float64\ntemp            float64\ndewp            float64\nslp             float64\npcp 01          float64\npcp 06          float64\npcp 24          float64\nsd              float64\ndtype: object"
          },
          "metadata": {}
        }
      ],
      "execution_count": 7
    },
    {
      "id": "3546e8a3-8513-42ee-ace7-4469e6621369",
      "cell_type": "code",
      "source": "df[['pickup_dt', 'borough']].head()",
      "metadata": {
        "trusted": true
      },
      "outputs": [
        {
          "execution_count": 8,
          "output_type": "execute_result",
          "data": {
            "text/plain": "             pickup_dt    borough\n0  2015-01-01 01:00:00      Bronx\n1  2015-01-01 01:00:00   Brooklyn\n2  2015-01-01 01:00:00        EWR\n3  2015-01-01 01:00:00  Manhattan\n4  2015-01-01 01:00:00     Queens",
            "text/html": "<div>\n<style scoped>\n    .dataframe tbody tr th:only-of-type {\n        vertical-align: middle;\n    }\n\n    .dataframe tbody tr th {\n        vertical-align: top;\n    }\n\n    .dataframe thead th {\n        text-align: right;\n    }\n</style>\n<table border=\"1\" class=\"dataframe\">\n  <thead>\n    <tr style=\"text-align: right;\">\n      <th></th>\n      <th>pickup_dt</th>\n      <th>borough</th>\n    </tr>\n  </thead>\n  <tbody>\n    <tr>\n      <th>0</th>\n      <td>2015-01-01 01:00:00</td>\n      <td>Bronx</td>\n    </tr>\n    <tr>\n      <th>1</th>\n      <td>2015-01-01 01:00:00</td>\n      <td>Brooklyn</td>\n    </tr>\n    <tr>\n      <th>2</th>\n      <td>2015-01-01 01:00:00</td>\n      <td>EWR</td>\n    </tr>\n    <tr>\n      <th>3</th>\n      <td>2015-01-01 01:00:00</td>\n      <td>Manhattan</td>\n    </tr>\n    <tr>\n      <th>4</th>\n      <td>2015-01-01 01:00:00</td>\n      <td>Queens</td>\n    </tr>\n  </tbody>\n</table>\n</div>"
          },
          "metadata": {}
        }
      ],
      "execution_count": 8
    },
    {
      "id": "2ad07dd3-7bad-41a4-860c-bb3d42f08336",
      "cell_type": "code",
      "source": "df.pickup_dt.value_counts().head(20)",
      "metadata": {
        "trusted": true
      },
      "outputs": [
        {
          "execution_count": 9,
          "output_type": "execute_result",
          "data": {
            "text/plain": "2015-01-01 01:00:00    7\n2015-04-26 10:00:00    7\n2015-04-26 14:00:00    7\n2015-04-26 15:00:00    7\n2015-04-26 16:00:00    7\n2015-04-26 17:00:00    7\n2015-04-26 18:00:00    7\n2015-04-26 19:00:00    7\n2015-04-26 20:00:00    7\n2015-04-26 21:00:00    7\n2015-04-26 22:00:00    7\n2015-04-26 23:00:00    7\n2015-04-27 00:00:00    7\n2015-04-27 02:00:00    7\n2015-04-27 06:00:00    7\n2015-04-27 07:00:00    7\n2015-04-27 08:00:00    7\n2015-04-27 09:00:00    7\n2015-04-27 10:00:00    7\n2015-04-27 13:00:00    7\nName: pickup_dt, dtype: int64"
          },
          "metadata": {}
        }
      ],
      "execution_count": 9
    },
    {
      "id": "97e0b5cf-b240-4273-9f2b-1c02f681ca77",
      "cell_type": "code",
      "source": "df.pickups.sum()",
      "metadata": {
        "trusted": true
      },
      "outputs": [
        {
          "execution_count": 10,
          "output_type": "execute_result",
          "data": {
            "text/plain": "14265773"
          },
          "metadata": {}
        }
      ],
      "execution_count": 10
    },
    {
      "id": "b13ae148-adee-4f50-a318-c8319b576a6c",
      "cell_type": "code",
      "source": "df.pickups.mean()",
      "metadata": {
        "trusted": true
      },
      "outputs": [
        {
          "execution_count": 11,
          "output_type": "execute_result",
          "data": {
            "text/plain": "490.2159032335659"
          },
          "metadata": {}
        }
      ],
      "execution_count": 11
    },
    {
      "id": "9a4e4828-14e8-42cd-95c6-1d1998438cf5",
      "cell_type": "code",
      "source": "df.query(\"borough == 'Manhattan'\")",
      "metadata": {
        "trusted": true
      },
      "outputs": [
        {
          "execution_count": 12,
          "output_type": "execute_result",
          "data": {
            "text/plain": "                 pickup_dt pickup_month    borough  pickups hday  spd   vsb  \\\n3      2015-01-01 01:00:00          Jan  Manhattan     5258    Y  5.0  10.0   \n10     2015-01-01 02:00:00          Jan  Manhattan     4345    Y  3.0  10.0   \n17     2015-01-01 03:00:00          Jan  Manhattan     4577    Y  5.0  10.0   \n24     2015-01-01 04:00:00          Jan  Manhattan     3003    Y  5.0  10.0   \n31     2015-01-01 05:00:00          Jan  Manhattan     1313    Y  5.0  10.0   \n...                    ...          ...        ...      ...  ...  ...   ...   \n29071  2015-06-30 19:00:00          Jun  Manhattan     4585    N  5.0  10.0   \n29078  2015-06-30 20:00:00          Jun  Manhattan     4210    N  8.0  10.0   \n29085  2015-06-30 21:00:00          Jun  Manhattan     4313    N  7.0  10.0   \n29091  2015-06-30 22:00:00          Jun  Manhattan     4452    N  5.0  10.0   \n29097  2015-06-30 23:00:00          Jun  Manhattan     3828    N  7.0  10.0   \n\n       temp  dewp     slp  pcp 01  pcp 06  pcp 24   sd  \n3      30.0   7.0  1023.5     0.0     0.0     0.0  0.0  \n10     30.0   6.0  1023.0     0.0     0.0     0.0  0.0  \n17     30.0   8.0  1022.3     0.0     0.0     0.0  0.0  \n24     29.0   9.0  1022.0     0.0     0.0     0.0  0.0  \n31     28.0   9.0  1021.8     0.0     0.0     0.0  0.0  \n...     ...   ...     ...     ...     ...     ...  ...  \n29071  80.0  58.0  1012.5     0.0     0.0     0.0  0.0  \n29078  80.0  58.0  1012.4     0.0     0.0     0.0  0.0  \n29085  76.0  61.0  1012.4     0.0     0.0     0.0  0.0  \n29091  76.0  64.0  1011.9     0.0     0.0     0.0  0.0  \n29097  75.0  65.0  1011.8     0.0     0.0     0.0  0.0  \n\n[4343 rows x 14 columns]",
            "text/html": "<div>\n<style scoped>\n    .dataframe tbody tr th:only-of-type {\n        vertical-align: middle;\n    }\n\n    .dataframe tbody tr th {\n        vertical-align: top;\n    }\n\n    .dataframe thead th {\n        text-align: right;\n    }\n</style>\n<table border=\"1\" class=\"dataframe\">\n  <thead>\n    <tr style=\"text-align: right;\">\n      <th></th>\n      <th>pickup_dt</th>\n      <th>pickup_month</th>\n      <th>borough</th>\n      <th>pickups</th>\n      <th>hday</th>\n      <th>spd</th>\n      <th>vsb</th>\n      <th>temp</th>\n      <th>dewp</th>\n      <th>slp</th>\n      <th>pcp 01</th>\n      <th>pcp 06</th>\n      <th>pcp 24</th>\n      <th>sd</th>\n    </tr>\n  </thead>\n  <tbody>\n    <tr>\n      <th>3</th>\n      <td>2015-01-01 01:00:00</td>\n      <td>Jan</td>\n      <td>Manhattan</td>\n      <td>5258</td>\n      <td>Y</td>\n      <td>5.0</td>\n      <td>10.0</td>\n      <td>30.0</td>\n      <td>7.0</td>\n      <td>1023.5</td>\n      <td>0.0</td>\n      <td>0.0</td>\n      <td>0.0</td>\n      <td>0.0</td>\n    </tr>\n    <tr>\n      <th>10</th>\n      <td>2015-01-01 02:00:00</td>\n      <td>Jan</td>\n      <td>Manhattan</td>\n      <td>4345</td>\n      <td>Y</td>\n      <td>3.0</td>\n      <td>10.0</td>\n      <td>30.0</td>\n      <td>6.0</td>\n      <td>1023.0</td>\n      <td>0.0</td>\n      <td>0.0</td>\n      <td>0.0</td>\n      <td>0.0</td>\n    </tr>\n    <tr>\n      <th>17</th>\n      <td>2015-01-01 03:00:00</td>\n      <td>Jan</td>\n      <td>Manhattan</td>\n      <td>4577</td>\n      <td>Y</td>\n      <td>5.0</td>\n      <td>10.0</td>\n      <td>30.0</td>\n      <td>8.0</td>\n      <td>1022.3</td>\n      <td>0.0</td>\n      <td>0.0</td>\n      <td>0.0</td>\n      <td>0.0</td>\n    </tr>\n    <tr>\n      <th>24</th>\n      <td>2015-01-01 04:00:00</td>\n      <td>Jan</td>\n      <td>Manhattan</td>\n      <td>3003</td>\n      <td>Y</td>\n      <td>5.0</td>\n      <td>10.0</td>\n      <td>29.0</td>\n      <td>9.0</td>\n      <td>1022.0</td>\n      <td>0.0</td>\n      <td>0.0</td>\n      <td>0.0</td>\n      <td>0.0</td>\n    </tr>\n    <tr>\n      <th>31</th>\n      <td>2015-01-01 05:00:00</td>\n      <td>Jan</td>\n      <td>Manhattan</td>\n      <td>1313</td>\n      <td>Y</td>\n      <td>5.0</td>\n      <td>10.0</td>\n      <td>28.0</td>\n      <td>9.0</td>\n      <td>1021.8</td>\n      <td>0.0</td>\n      <td>0.0</td>\n      <td>0.0</td>\n      <td>0.0</td>\n    </tr>\n    <tr>\n      <th>...</th>\n      <td>...</td>\n      <td>...</td>\n      <td>...</td>\n      <td>...</td>\n      <td>...</td>\n      <td>...</td>\n      <td>...</td>\n      <td>...</td>\n      <td>...</td>\n      <td>...</td>\n      <td>...</td>\n      <td>...</td>\n      <td>...</td>\n      <td>...</td>\n    </tr>\n    <tr>\n      <th>29071</th>\n      <td>2015-06-30 19:00:00</td>\n      <td>Jun</td>\n      <td>Manhattan</td>\n      <td>4585</td>\n      <td>N</td>\n      <td>5.0</td>\n      <td>10.0</td>\n      <td>80.0</td>\n      <td>58.0</td>\n      <td>1012.5</td>\n      <td>0.0</td>\n      <td>0.0</td>\n      <td>0.0</td>\n      <td>0.0</td>\n    </tr>\n    <tr>\n      <th>29078</th>\n      <td>2015-06-30 20:00:00</td>\n      <td>Jun</td>\n      <td>Manhattan</td>\n      <td>4210</td>\n      <td>N</td>\n      <td>8.0</td>\n      <td>10.0</td>\n      <td>80.0</td>\n      <td>58.0</td>\n      <td>1012.4</td>\n      <td>0.0</td>\n      <td>0.0</td>\n      <td>0.0</td>\n      <td>0.0</td>\n    </tr>\n    <tr>\n      <th>29085</th>\n      <td>2015-06-30 21:00:00</td>\n      <td>Jun</td>\n      <td>Manhattan</td>\n      <td>4313</td>\n      <td>N</td>\n      <td>7.0</td>\n      <td>10.0</td>\n      <td>76.0</td>\n      <td>61.0</td>\n      <td>1012.4</td>\n      <td>0.0</td>\n      <td>0.0</td>\n      <td>0.0</td>\n      <td>0.0</td>\n    </tr>\n    <tr>\n      <th>29091</th>\n      <td>2015-06-30 22:00:00</td>\n      <td>Jun</td>\n      <td>Manhattan</td>\n      <td>4452</td>\n      <td>N</td>\n      <td>5.0</td>\n      <td>10.0</td>\n      <td>76.0</td>\n      <td>64.0</td>\n      <td>1011.9</td>\n      <td>0.0</td>\n      <td>0.0</td>\n      <td>0.0</td>\n      <td>0.0</td>\n    </tr>\n    <tr>\n      <th>29097</th>\n      <td>2015-06-30 23:00:00</td>\n      <td>Jun</td>\n      <td>Manhattan</td>\n      <td>3828</td>\n      <td>N</td>\n      <td>7.0</td>\n      <td>10.0</td>\n      <td>75.0</td>\n      <td>65.0</td>\n      <td>1011.8</td>\n      <td>0.0</td>\n      <td>0.0</td>\n      <td>0.0</td>\n      <td>0.0</td>\n    </tr>\n  </tbody>\n</table>\n<p>4343 rows × 14 columns</p>\n</div>"
          },
          "metadata": {}
        }
      ],
      "execution_count": 12
    },
    {
      "id": "9bff5193-16e7-4781-be54-959fbc4d1639",
      "cell_type": "code",
      "source": "df.query(\"temp > 80\")",
      "metadata": {
        "trusted": true
      },
      "outputs": [
        {
          "execution_count": 13,
          "output_type": "execute_result",
          "data": {
            "text/plain": "                 pickup_dt pickup_month        borough  pickups hday  \\\n19742  2015-05-04 16:00:00          May          Bronx       79    N   \n19743  2015-05-04 16:00:00          May       Brooklyn      374    N   \n19744  2015-05-04 16:00:00          May            EWR        0    N   \n19745  2015-05-04 16:00:00          May      Manhattan     2272    N   \n19746  2015-05-04 16:00:00          May         Queens      413    N   \n...                    ...          ...            ...      ...  ...   \n29063  2015-06-30 18:00:00          Jun            EWR        0    N   \n29064  2015-06-30 18:00:00          Jun      Manhattan     4298    N   \n29065  2015-06-30 18:00:00          Jun         Queens      345    N   \n29066  2015-06-30 18:00:00          Jun  Staten Island        2    N   \n29067  2015-06-30 18:00:00          Jun            NaN        2    N   \n\n            spd   vsb  temp  dewp     slp  pcp 01  pcp 06  pcp 24   sd  \n19742  7.000000  10.0  81.0  45.0  1022.7     0.0     0.0     0.0  0.0  \n19743  7.000000  10.0  81.0  45.0  1022.7     0.0     0.0     0.0  0.0  \n19744  7.000000  10.0  81.0  45.0  1022.7     0.0     0.0     0.0  0.0  \n19745  7.000000  10.0  81.0  45.0  1022.7     0.0     0.0     0.0  0.0  \n19746  7.000000  10.0  81.0  45.0  1022.7     0.0     0.0     0.0  0.0  \n...         ...   ...   ...   ...     ...     ...     ...     ...  ...  \n29063  6.333333  10.0  81.0  56.0  1013.4     0.0     0.0     0.0  0.0  \n29064  6.333333  10.0  81.0  56.0  1013.4     0.0     0.0     0.0  0.0  \n29065  6.333333  10.0  81.0  56.0  1013.4     0.0     0.0     0.0  0.0  \n29066  6.333333  10.0  81.0  56.0  1013.4     0.0     0.0     0.0  0.0  \n29067  6.333333  10.0  81.0  56.0  1013.4     0.0     0.0     0.0  0.0  \n\n[1230 rows x 14 columns]",
            "text/html": "<div>\n<style scoped>\n    .dataframe tbody tr th:only-of-type {\n        vertical-align: middle;\n    }\n\n    .dataframe tbody tr th {\n        vertical-align: top;\n    }\n\n    .dataframe thead th {\n        text-align: right;\n    }\n</style>\n<table border=\"1\" class=\"dataframe\">\n  <thead>\n    <tr style=\"text-align: right;\">\n      <th></th>\n      <th>pickup_dt</th>\n      <th>pickup_month</th>\n      <th>borough</th>\n      <th>pickups</th>\n      <th>hday</th>\n      <th>spd</th>\n      <th>vsb</th>\n      <th>temp</th>\n      <th>dewp</th>\n      <th>slp</th>\n      <th>pcp 01</th>\n      <th>pcp 06</th>\n      <th>pcp 24</th>\n      <th>sd</th>\n    </tr>\n  </thead>\n  <tbody>\n    <tr>\n      <th>19742</th>\n      <td>2015-05-04 16:00:00</td>\n      <td>May</td>\n      <td>Bronx</td>\n      <td>79</td>\n      <td>N</td>\n      <td>7.000000</td>\n      <td>10.0</td>\n      <td>81.0</td>\n      <td>45.0</td>\n      <td>1022.7</td>\n      <td>0.0</td>\n      <td>0.0</td>\n      <td>0.0</td>\n      <td>0.0</td>\n    </tr>\n    <tr>\n      <th>19743</th>\n      <td>2015-05-04 16:00:00</td>\n      <td>May</td>\n      <td>Brooklyn</td>\n      <td>374</td>\n      <td>N</td>\n      <td>7.000000</td>\n      <td>10.0</td>\n      <td>81.0</td>\n      <td>45.0</td>\n      <td>1022.7</td>\n      <td>0.0</td>\n      <td>0.0</td>\n      <td>0.0</td>\n      <td>0.0</td>\n    </tr>\n    <tr>\n      <th>19744</th>\n      <td>2015-05-04 16:00:00</td>\n      <td>May</td>\n      <td>EWR</td>\n      <td>0</td>\n      <td>N</td>\n      <td>7.000000</td>\n      <td>10.0</td>\n      <td>81.0</td>\n      <td>45.0</td>\n      <td>1022.7</td>\n      <td>0.0</td>\n      <td>0.0</td>\n      <td>0.0</td>\n      <td>0.0</td>\n    </tr>\n    <tr>\n      <th>19745</th>\n      <td>2015-05-04 16:00:00</td>\n      <td>May</td>\n      <td>Manhattan</td>\n      <td>2272</td>\n      <td>N</td>\n      <td>7.000000</td>\n      <td>10.0</td>\n      <td>81.0</td>\n      <td>45.0</td>\n      <td>1022.7</td>\n      <td>0.0</td>\n      <td>0.0</td>\n      <td>0.0</td>\n      <td>0.0</td>\n    </tr>\n    <tr>\n      <th>19746</th>\n      <td>2015-05-04 16:00:00</td>\n      <td>May</td>\n      <td>Queens</td>\n      <td>413</td>\n      <td>N</td>\n      <td>7.000000</td>\n      <td>10.0</td>\n      <td>81.0</td>\n      <td>45.0</td>\n      <td>1022.7</td>\n      <td>0.0</td>\n      <td>0.0</td>\n      <td>0.0</td>\n      <td>0.0</td>\n    </tr>\n    <tr>\n      <th>...</th>\n      <td>...</td>\n      <td>...</td>\n      <td>...</td>\n      <td>...</td>\n      <td>...</td>\n      <td>...</td>\n      <td>...</td>\n      <td>...</td>\n      <td>...</td>\n      <td>...</td>\n      <td>...</td>\n      <td>...</td>\n      <td>...</td>\n      <td>...</td>\n    </tr>\n    <tr>\n      <th>29063</th>\n      <td>2015-06-30 18:00:00</td>\n      <td>Jun</td>\n      <td>EWR</td>\n      <td>0</td>\n      <td>N</td>\n      <td>6.333333</td>\n      <td>10.0</td>\n      <td>81.0</td>\n      <td>56.0</td>\n      <td>1013.4</td>\n      <td>0.0</td>\n      <td>0.0</td>\n      <td>0.0</td>\n      <td>0.0</td>\n    </tr>\n    <tr>\n      <th>29064</th>\n      <td>2015-06-30 18:00:00</td>\n      <td>Jun</td>\n      <td>Manhattan</td>\n      <td>4298</td>\n      <td>N</td>\n      <td>6.333333</td>\n      <td>10.0</td>\n      <td>81.0</td>\n      <td>56.0</td>\n      <td>1013.4</td>\n      <td>0.0</td>\n      <td>0.0</td>\n      <td>0.0</td>\n      <td>0.0</td>\n    </tr>\n    <tr>\n      <th>29065</th>\n      <td>2015-06-30 18:00:00</td>\n      <td>Jun</td>\n      <td>Queens</td>\n      <td>345</td>\n      <td>N</td>\n      <td>6.333333</td>\n      <td>10.0</td>\n      <td>81.0</td>\n      <td>56.0</td>\n      <td>1013.4</td>\n      <td>0.0</td>\n      <td>0.0</td>\n      <td>0.0</td>\n      <td>0.0</td>\n    </tr>\n    <tr>\n      <th>29066</th>\n      <td>2015-06-30 18:00:00</td>\n      <td>Jun</td>\n      <td>Staten Island</td>\n      <td>2</td>\n      <td>N</td>\n      <td>6.333333</td>\n      <td>10.0</td>\n      <td>81.0</td>\n      <td>56.0</td>\n      <td>1013.4</td>\n      <td>0.0</td>\n      <td>0.0</td>\n      <td>0.0</td>\n      <td>0.0</td>\n    </tr>\n    <tr>\n      <th>29067</th>\n      <td>2015-06-30 18:00:00</td>\n      <td>Jun</td>\n      <td>NaN</td>\n      <td>2</td>\n      <td>N</td>\n      <td>6.333333</td>\n      <td>10.0</td>\n      <td>81.0</td>\n      <td>56.0</td>\n      <td>1013.4</td>\n      <td>0.0</td>\n      <td>0.0</td>\n      <td>0.0</td>\n      <td>0.0</td>\n    </tr>\n  </tbody>\n</table>\n<p>1230 rows × 14 columns</p>\n</div>"
          },
          "metadata": {}
        }
      ],
      "execution_count": 13
    },
    {
      "id": "1bb9129e",
      "cell_type": "markdown",
      "source": "**5. В названиях столбцов pcp 01, pcp 06, pcp 24 встречается пробел. Это не очень удобно, если в дальнейшем вы планируете обращаться к колонкам через точку, без использования кавычек и скобочек.** \n\n**Замените пробел в названиях на знак нижнего подчеркивания.**\n\n**Данные сохранены в переменную taxi. Данные должны быть изменены в этом же датафрейме.**",
      "metadata": {}
    },
    {
      "id": "17a671ce",
      "cell_type": "code",
      "source": "taxi = df.rename(columns={'pcp 01': 'pcp_01', 'pcp 06': 'pcp_06', 'pcp 24': 'pcp_24'})",
      "metadata": {
        "trusted": true
      },
      "outputs": [],
      "execution_count": 14
    },
    {
      "id": "a21184dd",
      "cell_type": "markdown",
      "source": "**6. Вас попросили узнать, сколько записей (строк) в датафрейме относятся к району Манхэттен (Manhattan). Получить ответ на данный вопрос можно было бы, например, с помощью следующей команды:**\n```python\ntaxi.query(\"borough == 'Manhattan'\").shape[0]\n```\n\nВ shape хранится пара значений вида (x,y) которая обозначает размерность датафрейма. При этом x - размерность по вертикали, т.е. количество строк, А y - по горизонтали, т.е. количество столбцов\n\n\n**А если мы хотим посмотреть, сколько раз встречается каждый из районов? Неужели придется использовать подобную конструкцию для каждого уровня переменной? Здесь на помощь приходит метод value_counts(), подробнее о котором можно почитать в конспекте!**\n\n**Сколько раз в данных встречается район Бруклин (Brooklyn)?**",
      "metadata": {}
    },
    {
      "id": "9c829af4-4f46-419d-a1dd-1ff457b524a1",
      "cell_type": "code",
      "source": "taxi.query(\"borough == 'Manhattan'\").shape[0]",
      "metadata": {
        "trusted": true
      },
      "outputs": [
        {
          "execution_count": 15,
          "output_type": "execute_result",
          "data": {
            "text/plain": "4343"
          },
          "metadata": {}
        }
      ],
      "execution_count": 15
    },
    {
      "id": "5b13f99a-f550-4a0e-b434-f26af905144b",
      "cell_type": "code",
      "source": "taxi.borough.value_counts()",
      "metadata": {
        "trusted": true
      },
      "outputs": [
        {
          "execution_count": 16,
          "output_type": "execute_result",
          "data": {
            "text/plain": "Bronx            4343\nBrooklyn         4343\nEWR              4343\nManhattan        4343\nQueens           4343\nStaten Island    4343\nName: borough, dtype: int64"
          },
          "metadata": {}
        }
      ],
      "execution_count": 16
    },
    {
      "id": "2e15e36a",
      "cell_type": "markdown",
      "source": "**7. Следующая задача: выяснить, из какого района было совершено наибольшее количество поездок за весь период. Для начала, посчитайте общее количество поездок (pickups), без группировки.**\n\n",
      "metadata": {}
    },
    {
      "id": "484113d7-8452-4531-badc-b439723e0b3d",
      "cell_type": "code",
      "source": "taxi.pickups.count()",
      "metadata": {
        "trusted": true
      },
      "outputs": [
        {
          "execution_count": 17,
          "output_type": "execute_result",
          "data": {
            "text/plain": "29101"
          },
          "metadata": {}
        }
      ],
      "execution_count": 17
    },
    {
      "id": "1442c08e",
      "cell_type": "markdown",
      "source": "**8. А теперь сгруппируйте данные по району (borough) и укажите, из какого пункта было совершено больше всего поездок.**\n\n* Staten Island\n* Brooklyn\n* Queens\n* Bronx\n* **Manhattan**",
      "metadata": {}
    },
    {
      "id": "4e053715-b5e8-4cd0-bf68-3714af763e80",
      "cell_type": "code",
      "source": "pickups = taxi \\\n    .groupby(['borough'], as_index = False) \\\n    .aggregate({'pickups': 'sum'}) \\\n    .sort_values('pickups', ascending=False)\npickups",
      "metadata": {
        "trusted": true
      },
      "outputs": [
        {
          "execution_count": 18,
          "output_type": "execute_result",
          "data": {
            "text/plain": "         borough   pickups\n3      Manhattan  10367841\n1       Brooklyn   2321035\n4         Queens   1343528\n0          Bronx    220047\n5  Staten Island      6957\n2            EWR       105",
            "text/html": "<div>\n<style scoped>\n    .dataframe tbody tr th:only-of-type {\n        vertical-align: middle;\n    }\n\n    .dataframe tbody tr th {\n        vertical-align: top;\n    }\n\n    .dataframe thead th {\n        text-align: right;\n    }\n</style>\n<table border=\"1\" class=\"dataframe\">\n  <thead>\n    <tr style=\"text-align: right;\">\n      <th></th>\n      <th>borough</th>\n      <th>pickups</th>\n    </tr>\n  </thead>\n  <tbody>\n    <tr>\n      <th>3</th>\n      <td>Manhattan</td>\n      <td>10367841</td>\n    </tr>\n    <tr>\n      <th>1</th>\n      <td>Brooklyn</td>\n      <td>2321035</td>\n    </tr>\n    <tr>\n      <th>4</th>\n      <td>Queens</td>\n      <td>1343528</td>\n    </tr>\n    <tr>\n      <th>0</th>\n      <td>Bronx</td>\n      <td>220047</td>\n    </tr>\n    <tr>\n      <th>5</th>\n      <td>Staten Island</td>\n      <td>6957</td>\n    </tr>\n    <tr>\n      <th>2</th>\n      <td>EWR</td>\n      <td>105</td>\n    </tr>\n  </tbody>\n</table>\n</div>"
          },
          "metadata": {}
        }
      ],
      "execution_count": 18
    },
    {
      "id": "50026354-afbf-457a-b536-be1c4774cc38",
      "cell_type": "markdown",
      "source": "**8а. Усложним задачу. Выполним ту же группировку, но с условием того,что мы выберем только те поездки, в дни которых температура (temp) была больше 80**",
      "metadata": {}
    },
    {
      "id": "b1b73665-53a2-4dae-9d31-cf3ece3f935d",
      "cell_type": "code",
      "source": "pickups = taxi \\\n    .query(\"temp > 80\") \\\n    .groupby(['borough'], as_index = False) \\\n    .aggregate({'pickups': 'sum'}) \\\n    .sort_values('pickups', ascending=False)\npickups",
      "metadata": {
        "trusted": true
      },
      "outputs": [
        {
          "execution_count": 19,
          "output_type": "execute_result",
          "data": {
            "text/plain": "         borough  pickups\n3      Manhattan   640206\n1       Brooklyn   140352\n4         Queens    88642\n0          Bronx    14818\n5  Staten Island      493\n2            EWR        8",
            "text/html": "<div>\n<style scoped>\n    .dataframe tbody tr th:only-of-type {\n        vertical-align: middle;\n    }\n\n    .dataframe tbody tr th {\n        vertical-align: top;\n    }\n\n    .dataframe thead th {\n        text-align: right;\n    }\n</style>\n<table border=\"1\" class=\"dataframe\">\n  <thead>\n    <tr style=\"text-align: right;\">\n      <th></th>\n      <th>borough</th>\n      <th>pickups</th>\n    </tr>\n  </thead>\n  <tbody>\n    <tr>\n      <th>3</th>\n      <td>Manhattan</td>\n      <td>640206</td>\n    </tr>\n    <tr>\n      <th>1</th>\n      <td>Brooklyn</td>\n      <td>140352</td>\n    </tr>\n    <tr>\n      <th>4</th>\n      <td>Queens</td>\n      <td>88642</td>\n    </tr>\n    <tr>\n      <th>0</th>\n      <td>Bronx</td>\n      <td>14818</td>\n    </tr>\n    <tr>\n      <th>5</th>\n      <td>Staten Island</td>\n      <td>493</td>\n    </tr>\n    <tr>\n      <th>2</th>\n      <td>EWR</td>\n      <td>8</td>\n    </tr>\n  </tbody>\n</table>\n</div>"
          },
          "metadata": {}
        }
      ],
      "execution_count": 19
    },
    {
      "id": "c3749934",
      "cell_type": "markdown",
      "source": "**9. Еще несколько полезных методов в pandas! Возможно, в предыдущем степе вы просто посмотрели на данные или отсортировали значения. Ускорить данный процесс в дальнейшем помогут методы idxmin() и idxmax(), которые возвращают индекс минимального или максимального значения.**\n\nidxmin – индекс минимального значения\n\nidxmax – индекс максимального значения\n\n**Сохраните название района с наименьшим числом поездок в переменную min_pickups, применив подходящий метод.**\n\n**Исходные данные сохранены в переменную taxi.**",
      "metadata": {}
    },
    {
      "id": "f165578c",
      "cell_type": "code",
      "source": "min_pickups = taxi \\\n    .groupby(['borough']) \\\n    .aggregate({'pickups': 'sum'}) \\\n    .sort_values('pickups', ascending=False)  \\\n    .idxmin()",
      "metadata": {
        "trusted": true
      },
      "outputs": [],
      "execution_count": 20
    },
    {
      "id": "6e074637",
      "cell_type": "markdown",
      "source": "**10. Продолжим изучение данных и посмотрим на число поездок в выходные дни. Сгруппируйте данные по двум признакам: району города и является ли день выходным (колонки borough и hday). Сравните среднее число поездок, и выберите районы, из которых по праздникам в среднем поступает больше заказов, чем в обычные дни.**\n\n* Staten Island\n* Brooklyn\n* Bronx\n* **Queens**\n* **EWR**\n* Manhattan",
      "metadata": {}
    },
    {
      "id": "84daf593-62a5-490d-88bb-528d94e06865",
      "cell_type": "code",
      "source": "weekends = taxi \\\n    .groupby(['borough', 'hday']) \\\n    .aggregate({'pickups': 'mean'})\nweekends",
      "metadata": {
        "trusted": true
      },
      "outputs": [
        {
          "execution_count": 21,
          "output_type": "execute_result",
          "data": {
            "text/plain": "                        pickups\nborough       hday             \nBronx         N       50.771073\n              Y       48.065868\nBrooklyn      N      534.727969\n              Y      527.011976\nEWR           N        0.023467\n              Y        0.041916\nManhattan     N     2401.302921\n              Y     2035.928144\nQueens        N      308.899904\n              Y      320.730539\nStaten Island N        1.606082\n              Y        1.497006",
            "text/html": "<div>\n<style scoped>\n    .dataframe tbody tr th:only-of-type {\n        vertical-align: middle;\n    }\n\n    .dataframe tbody tr th {\n        vertical-align: top;\n    }\n\n    .dataframe thead th {\n        text-align: right;\n    }\n</style>\n<table border=\"1\" class=\"dataframe\">\n  <thead>\n    <tr style=\"text-align: right;\">\n      <th></th>\n      <th></th>\n      <th>pickups</th>\n    </tr>\n    <tr>\n      <th>borough</th>\n      <th>hday</th>\n      <th></th>\n    </tr>\n  </thead>\n  <tbody>\n    <tr>\n      <th rowspan=\"2\" valign=\"top\">Bronx</th>\n      <th>N</th>\n      <td>50.771073</td>\n    </tr>\n    <tr>\n      <th>Y</th>\n      <td>48.065868</td>\n    </tr>\n    <tr>\n      <th rowspan=\"2\" valign=\"top\">Brooklyn</th>\n      <th>N</th>\n      <td>534.727969</td>\n    </tr>\n    <tr>\n      <th>Y</th>\n      <td>527.011976</td>\n    </tr>\n    <tr>\n      <th rowspan=\"2\" valign=\"top\">EWR</th>\n      <th>N</th>\n      <td>0.023467</td>\n    </tr>\n    <tr>\n      <th>Y</th>\n      <td>0.041916</td>\n    </tr>\n    <tr>\n      <th rowspan=\"2\" valign=\"top\">Manhattan</th>\n      <th>N</th>\n      <td>2401.302921</td>\n    </tr>\n    <tr>\n      <th>Y</th>\n      <td>2035.928144</td>\n    </tr>\n    <tr>\n      <th rowspan=\"2\" valign=\"top\">Queens</th>\n      <th>N</th>\n      <td>308.899904</td>\n    </tr>\n    <tr>\n      <th>Y</th>\n      <td>320.730539</td>\n    </tr>\n    <tr>\n      <th rowspan=\"2\" valign=\"top\">Staten Island</th>\n      <th>N</th>\n      <td>1.606082</td>\n    </tr>\n    <tr>\n      <th>Y</th>\n      <td>1.497006</td>\n    </tr>\n  </tbody>\n</table>\n</div>"
          },
          "metadata": {}
        }
      ],
      "execution_count": 21
    },
    {
      "id": "3e384201",
      "cell_type": "markdown",
      "source": "**11. Для каждого района посчитайте число поездок по месяцам. Отсортируйте полученные значения по убыванию и сохраните результирующий датафрейм в pickups_by_mon_bor.**\n\n**Обратите внимание, что итоговый датасет должен состоять из 3-х колонок - pickup_month, borough, pickups.**\n\n**Данные сохранены в переменную taxi.**",
      "metadata": {}
    },
    {
      "id": "6a877186",
      "cell_type": "code",
      "source": "pickups_by_mon_bor = taxi \\\n    .groupby(['borough', 'pickup_month'], as_index=False) \\\n    .aggregate({'pickups': 'sum'}) \\\n    .sort_values('pickups', ascending=False)\npickups_by_mon_bor",
      "metadata": {
        "trusted": true
      },
      "outputs": [
        {
          "execution_count": 22,
          "output_type": "execute_result",
          "data": {
            "text/plain": "          borough pickup_month  pickups\n21      Manhattan          Jun  1995388\n23      Manhattan          May  1888800\n19      Manhattan          Feb  1718571\n22      Manhattan          Mar  1661261\n18      Manhattan          Apr  1648278\n20      Manhattan          Jan  1455543\n9        Brooklyn          Jun   482466\n11       Brooklyn          May   476087\n6        Brooklyn          Apr   378095\n10       Brooklyn          Mar   346726\n7        Brooklyn          Feb   328650\n8        Brooklyn          Jan   309011\n27         Queens          Jun   286311\n29         Queens          May   275893\n28         Queens          Mar   219561\n24         Queens          Apr   216857\n25         Queens          Feb   185695\n26         Queens          Jan   159211\n5           Bronx          May    53037\n3           Bronx          Jun    49006\n0           Bronx          Apr    34617\n4           Bronx          Mar    32232\n1           Bronx          Feb    28694\n2           Bronx          Jan    22461\n33  Staten Island          Jun     1673\n35  Staten Island          May     1517\n30  Staten Island          Apr     1068\n34  Staten Island          Mar      975\n31  Staten Island          Feb      903\n32  Staten Island          Jan      821\n15            EWR          Jun       29\n17            EWR          May       27\n16            EWR          Mar       14\n13            EWR          Feb       14\n14            EWR          Jan       11\n12            EWR          Apr       10",
            "text/html": "<div>\n<style scoped>\n    .dataframe tbody tr th:only-of-type {\n        vertical-align: middle;\n    }\n\n    .dataframe tbody tr th {\n        vertical-align: top;\n    }\n\n    .dataframe thead th {\n        text-align: right;\n    }\n</style>\n<table border=\"1\" class=\"dataframe\">\n  <thead>\n    <tr style=\"text-align: right;\">\n      <th></th>\n      <th>borough</th>\n      <th>pickup_month</th>\n      <th>pickups</th>\n    </tr>\n  </thead>\n  <tbody>\n    <tr>\n      <th>21</th>\n      <td>Manhattan</td>\n      <td>Jun</td>\n      <td>1995388</td>\n    </tr>\n    <tr>\n      <th>23</th>\n      <td>Manhattan</td>\n      <td>May</td>\n      <td>1888800</td>\n    </tr>\n    <tr>\n      <th>19</th>\n      <td>Manhattan</td>\n      <td>Feb</td>\n      <td>1718571</td>\n    </tr>\n    <tr>\n      <th>22</th>\n      <td>Manhattan</td>\n      <td>Mar</td>\n      <td>1661261</td>\n    </tr>\n    <tr>\n      <th>18</th>\n      <td>Manhattan</td>\n      <td>Apr</td>\n      <td>1648278</td>\n    </tr>\n    <tr>\n      <th>20</th>\n      <td>Manhattan</td>\n      <td>Jan</td>\n      <td>1455543</td>\n    </tr>\n    <tr>\n      <th>9</th>\n      <td>Brooklyn</td>\n      <td>Jun</td>\n      <td>482466</td>\n    </tr>\n    <tr>\n      <th>11</th>\n      <td>Brooklyn</td>\n      <td>May</td>\n      <td>476087</td>\n    </tr>\n    <tr>\n      <th>6</th>\n      <td>Brooklyn</td>\n      <td>Apr</td>\n      <td>378095</td>\n    </tr>\n    <tr>\n      <th>10</th>\n      <td>Brooklyn</td>\n      <td>Mar</td>\n      <td>346726</td>\n    </tr>\n    <tr>\n      <th>7</th>\n      <td>Brooklyn</td>\n      <td>Feb</td>\n      <td>328650</td>\n    </tr>\n    <tr>\n      <th>8</th>\n      <td>Brooklyn</td>\n      <td>Jan</td>\n      <td>309011</td>\n    </tr>\n    <tr>\n      <th>27</th>\n      <td>Queens</td>\n      <td>Jun</td>\n      <td>286311</td>\n    </tr>\n    <tr>\n      <th>29</th>\n      <td>Queens</td>\n      <td>May</td>\n      <td>275893</td>\n    </tr>\n    <tr>\n      <th>28</th>\n      <td>Queens</td>\n      <td>Mar</td>\n      <td>219561</td>\n    </tr>\n    <tr>\n      <th>24</th>\n      <td>Queens</td>\n      <td>Apr</td>\n      <td>216857</td>\n    </tr>\n    <tr>\n      <th>25</th>\n      <td>Queens</td>\n      <td>Feb</td>\n      <td>185695</td>\n    </tr>\n    <tr>\n      <th>26</th>\n      <td>Queens</td>\n      <td>Jan</td>\n      <td>159211</td>\n    </tr>\n    <tr>\n      <th>5</th>\n      <td>Bronx</td>\n      <td>May</td>\n      <td>53037</td>\n    </tr>\n    <tr>\n      <th>3</th>\n      <td>Bronx</td>\n      <td>Jun</td>\n      <td>49006</td>\n    </tr>\n    <tr>\n      <th>0</th>\n      <td>Bronx</td>\n      <td>Apr</td>\n      <td>34617</td>\n    </tr>\n    <tr>\n      <th>4</th>\n      <td>Bronx</td>\n      <td>Mar</td>\n      <td>32232</td>\n    </tr>\n    <tr>\n      <th>1</th>\n      <td>Bronx</td>\n      <td>Feb</td>\n      <td>28694</td>\n    </tr>\n    <tr>\n      <th>2</th>\n      <td>Bronx</td>\n      <td>Jan</td>\n      <td>22461</td>\n    </tr>\n    <tr>\n      <th>33</th>\n      <td>Staten Island</td>\n      <td>Jun</td>\n      <td>1673</td>\n    </tr>\n    <tr>\n      <th>35</th>\n      <td>Staten Island</td>\n      <td>May</td>\n      <td>1517</td>\n    </tr>\n    <tr>\n      <th>30</th>\n      <td>Staten Island</td>\n      <td>Apr</td>\n      <td>1068</td>\n    </tr>\n    <tr>\n      <th>34</th>\n      <td>Staten Island</td>\n      <td>Mar</td>\n      <td>975</td>\n    </tr>\n    <tr>\n      <th>31</th>\n      <td>Staten Island</td>\n      <td>Feb</td>\n      <td>903</td>\n    </tr>\n    <tr>\n      <th>32</th>\n      <td>Staten Island</td>\n      <td>Jan</td>\n      <td>821</td>\n    </tr>\n    <tr>\n      <th>15</th>\n      <td>EWR</td>\n      <td>Jun</td>\n      <td>29</td>\n    </tr>\n    <tr>\n      <th>17</th>\n      <td>EWR</td>\n      <td>May</td>\n      <td>27</td>\n    </tr>\n    <tr>\n      <th>16</th>\n      <td>EWR</td>\n      <td>Mar</td>\n      <td>14</td>\n    </tr>\n    <tr>\n      <th>13</th>\n      <td>EWR</td>\n      <td>Feb</td>\n      <td>14</td>\n    </tr>\n    <tr>\n      <th>14</th>\n      <td>EWR</td>\n      <td>Jan</td>\n      <td>11</td>\n    </tr>\n    <tr>\n      <th>12</th>\n      <td>EWR</td>\n      <td>Apr</td>\n      <td>10</td>\n    </tr>\n  </tbody>\n</table>\n</div>"
          },
          "metadata": {}
        }
      ],
      "execution_count": 22
    },
    {
      "id": "9bd5bc27",
      "cell_type": "markdown",
      "source": "**11.  Попрактикуемся в написании собственных функций и их применении к датафрейму. Поскольку данные о поездках в Нью-Йорке, температура представлена в градусах Фаренгейта.**\n\n**Напишите функцию temp_to_celcius, которая получает на вход колонку с температурой в °F, и возвращает значения, переведенные в градусы Цельсия.**\n\nФормула:\n\nt °С = 5/9 (t °F - 32)\n\nПример работы функции:\n```python\n> taxi['temp'][:5]\n0    30.0\n1    30.0\n2    30.0\n3    30.0\n4    30.0\n\n> taxi['temp_C'] = temp_to_celcius(taxi['temp'])\n> taxi['temp_C'][:5]\n0   -1.111111\n1   -1.111111\n2   -1.111111\n3   -1.111111\n4   -1.111111\n```\n",
      "metadata": {}
    },
    {
      "id": "7e0ad007",
      "cell_type": "code",
      "source": "def temp_to_celcius(temp):\n    return (temp - 32) * 5 / 9 \ntaxi['temp_C'] = temp_to_celcius(taxi['temp'])\ntaxi['temp_C']",
      "metadata": {
        "trusted": true
      },
      "outputs": [
        {
          "execution_count": 23,
          "output_type": "execute_result",
          "data": {
            "text/plain": "0        -1.111111\n1        -1.111111\n2        -1.111111\n3        -1.111111\n4        -1.111111\n           ...    \n29096    23.888889\n29097    23.888889\n29098    23.888889\n29099    23.888889\n29100    23.888889\nName: temp_C, Length: 29101, dtype: float64"
          },
          "metadata": {}
        }
      ],
      "execution_count": 23
    },
    {
      "id": "f7ceb8c2-dbb7-4d1e-a3f9-a708c19948b9",
      "cell_type": "code",
      "source": "",
      "metadata": {
        "trusted": true
      },
      "outputs": [],
      "execution_count": null
    }
  ]
}
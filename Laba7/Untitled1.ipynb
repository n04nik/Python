{
  "metadata": {
    "kernelspec": {
      "name": "python",
      "display_name": "Python (Pyodide)",
      "language": "python"
    },
    "language_info": {
      "name": ""
    }
  },
  "nbformat_minor": 4,
  "nbformat": 4,
  "cells": [
    {
      "cell_type": "markdown",
      "source": "# Знакомство с Pandas.",
      "metadata": {}
    },
    {
      "cell_type": "markdown",
      "source": "**Pandas — это библиотека Python с открытым исходным кодом для специализированного анализа данных.**\n\nPandas появилась из необходимости в простом инструменте для обработки, извлечения и управления данными.\n\nЭтот пакет Python спроектирован на основе библиотеки NumPy. Такой выбор обуславливает успех и быстрое распространение pandas. Он также пользуется всеми преимуществами NumPy и делает pandas совместимой с большинством другим модулей.\n\nЕще одно важное решение — разработка специальных структур для анализа данных. Вместо того, чтобы использовать встроенные в Python или предоставляемые другими библиотеками структуры, были разработаны две новых.",
      "metadata": {}
    },
    {
      "cell_type": "markdown",
      "source": "Ядром pandas являются две структуры данных, в которых происходят все операции:\n\n* Series\n* Dataframes\n\n\n**Series** — это структура, используемая для работы с последовательностью одномерных данных,\n\nа **Dataframe** — более сложная и подходит для нескольких измерений.",
      "metadata": {}
    },
    {
      "cell_type": "markdown",
      "source": "# Series (серии)",
      "metadata": {}
    },
    {
      "cell_type": "markdown",
      "source": "Series — это объект библиотеки pandas, спроектированный для представления одномерных структур данных, похожих на массивы, но с дополнительными возможностями. Его структура проста, ведь он состоит из двух связанных между собой массивов. Основной содержит данные (данные любого типа NumPy), а в дополнительном, index, хранятся метки.",
      "metadata": {}
    },
    {
      "cell_type": "code",
      "source": "import pandas as pd",
      "metadata": {
        "trusted": true
      },
      "outputs": [],
      "execution_count": null
    },
    {
      "cell_type": "code",
      "source": "s = pd.Series([12,-4,7,9])\ns",
      "metadata": {
        "trusted": true
      },
      "outputs": [],
      "execution_count": null
    },
    {
      "cell_type": "markdown",
      "source": "Как можно увидеть по выводу, слева отображаются значения индексов, а справа — сами значения (данные).\n\nЕсли не определить индекс при объявлении объекта, метки будут соответствовать индексам (положению в массиве) элементов объекта Series.\n\nОднако лучше создавать Series, используя метки с неким смыслом, чтобы в будущем отделять и идентифицировать данные вне зависимости от того, в каком порядке они хранятся.\n\nВ таком случае необходимо будет при вызове конструктора включить параметр index и присвоить ему массив строк с метками.",
      "metadata": {}
    },
    {
      "cell_type": "code",
      "source": "s = pd.Series([12,-4,7,9], index=['a','b','c','d'])\ns",
      "metadata": {
        "trusted": true
      },
      "outputs": [],
      "execution_count": null
    },
    {
      "cell_type": "markdown",
      "source": "Если необходимо увидеть оба массива, из которых состоит структура, можно вызвать два атрибута: **index и values.**",
      "metadata": {}
    },
    {
      "cell_type": "code",
      "source": "s.values",
      "metadata": {
        "trusted": true
      },
      "outputs": [],
      "execution_count": null
    },
    {
      "cell_type": "code",
      "source": "s.index",
      "metadata": {
        "trusted": true
      },
      "outputs": [],
      "execution_count": null
    },
    {
      "cell_type": "code",
      "source": "s[1] = 0\ns['b'] = 1",
      "metadata": {
        "trusted": true
      },
      "outputs": [],
      "execution_count": null
    },
    {
      "cell_type": "code",
      "source": "import numpy as np\narr = np.array([1,2,3,4])\ns3 = pd.Series(arr)\ns3",
      "metadata": {
        "trusted": true
      },
      "outputs": [],
      "execution_count": null
    },
    {
      "cell_type": "markdown",
      "source": "**Операции и математические функции**",
      "metadata": {}
    },
    {
      "cell_type": "markdown",
      "source": "Другие операции, такие как операторы (+, -, * и /), а также математические функции, работающие с массивами NumPy, могут использоваться и для Series.",
      "metadata": {}
    },
    {
      "cell_type": "code",
      "source": "s / 2",
      "metadata": {
        "trusted": true
      },
      "outputs": [],
      "execution_count": null
    },
    {
      "cell_type": "code",
      "source": "np.log(s)",
      "metadata": {
        "trusted": true
      },
      "outputs": [],
      "execution_count": null
    },
    {
      "cell_type": "markdown",
      "source": "**Количество значений**",
      "metadata": {}
    },
    {
      "cell_type": "markdown",
      "source": "В Series часто встречаются повторения значений. Поэтому важно иметь информацию, которая бы указывала на то, есть ли дубликаты или конкретное значение в объекте.\n\nТак, можно объявить Series, в котором будут повторяющиеся значения.",
      "metadata": {}
    },
    {
      "cell_type": "code",
      "source": "serd = pd.Series([1,0,2,1,2,3], index=['white','white','blue','green',' green','yellow']) \nserd",
      "metadata": {
        "trusted": true
      },
      "outputs": [],
      "execution_count": null
    },
    {
      "cell_type": "code",
      "source": "serd.unique()",
      "metadata": {
        "trusted": true
      },
      "outputs": [],
      "execution_count": null
    },
    {
      "cell_type": "code",
      "source": "serd.value_counts()",
      "metadata": {
        "trusted": true
      },
      "outputs": [],
      "execution_count": null
    },
    {
      "cell_type": "markdown",
      "source": "Наконец, isin() показывает, есть ли элементы на основе списка значений. Она возвращает булевые значения, которые очень полезны при фильтрации данных в Series или в колонке Dataframe.",
      "metadata": {}
    },
    {
      "cell_type": "code",
      "source": "serd.isin([0,3])",
      "metadata": {
        "trusted": true
      },
      "outputs": [],
      "execution_count": null
    },
    {
      "cell_type": "code",
      "source": "serd[serd.isin([0,3])]",
      "metadata": {
        "trusted": true
      },
      "outputs": [],
      "execution_count": null
    },
    {
      "cell_type": "markdown",
      "source": "# DataFrame (датафрейм)",
      "metadata": {}
    },
    {
      "cell_type": "markdown",
      "source": "**Dataframe**— это табличная структура данных, напоминающая таблицы из Microsoft Excel. Ее главная задача — позволить использовать многомерные Series. Dataframe состоит из упорядоченной коллекции колонок, каждая из которых содержит значение разных типов (числовое, строковое, булевое и так далее).",
      "metadata": {}
    },
    {
      "cell_type": "markdown",
      "source": "В отличие от Series у которого есть массив индексов с метками, ассоциированных с каждым из элементов, Dataframe имеет сразу два таких. Первый ассоциирован со строками (рядами) и напоминает таковой из Series. Каждая метка ассоциирована со всеми значениями в ряду. Второй содержит метки для каждой из колонок.",
      "metadata": {}
    },
    {
      "cell_type": "markdown",
      "source": "**Создание Dataframe**\n\nПростейший способ создания Dataframe — передать объект dict в конструктор DataFrame(). Объект dict содержит ключ для каждой колонки, которую требуется определить, а также массив значений для них.",
      "metadata": {}
    },
    {
      "cell_type": "code",
      "source": "data = {'color' : ['blue', 'green', 'yellow', 'red', 'white'],\n        'object' : ['ball', 'pen', 'pencil', 'paper', 'mug'],\n        'price' : [1.2, 1.0, 0.6, 0.9, 1.7]}\nframe = pd.DataFrame(data)\nframe",
      "metadata": {
        "trusted": true
      },
      "outputs": [],
      "execution_count": null
    },
    {
      "cell_type": "code",
      "source": "frame2 = pd.DataFrame(data, columns=['object', 'price'])\nframe2",
      "metadata": {
        "trusted": true
      },
      "outputs": [],
      "execution_count": null
    },
    {
      "cell_type": "code",
      "source": "frame.columns",
      "metadata": {
        "trusted": true
      },
      "outputs": [],
      "execution_count": null
    },
    {
      "cell_type": "code",
      "source": "frame.values",
      "metadata": {
        "trusted": true
      },
      "outputs": [],
      "execution_count": null
    },
    {
      "cell_type": "code",
      "source": "frame['price']",
      "metadata": {
        "trusted": true
      },
      "outputs": [],
      "execution_count": null
    },
    {
      "cell_type": "code",
      "source": "frame.price",
      "metadata": {
        "trusted": true
      },
      "outputs": [],
      "execution_count": null
    },
    {
      "cell_type": "markdown",
      "source": "Для строк внутри Dataframe используется атрибут loc со значением индекса нужной строки.",
      "metadata": {}
    },
    {
      "cell_type": "code",
      "source": "frame.loc[2]",
      "metadata": {
        "trusted": true
      },
      "outputs": [],
      "execution_count": null
    },
    {
      "cell_type": "code",
      "source": "frame.loc[[2,4]]",
      "metadata": {
        "trusted": true
      },
      "outputs": [],
      "execution_count": null
    },
    {
      "cell_type": "code",
      "source": "frame['object'][3]",
      "metadata": {
        "trusted": true
      },
      "outputs": [],
      "execution_count": null
    },
    {
      "cell_type": "code",
      "source": "",
      "metadata": {
        "trusted": true
      },
      "outputs": [],
      "execution_count": null
    },
    {
      "cell_type": "code",
      "source": "",
      "metadata": {
        "trusted": true
      },
      "outputs": [],
      "execution_count": null
    },
    {
      "cell_type": "code",
      "source": "",
      "metadata": {
        "trusted": true
      },
      "outputs": [],
      "execution_count": null
    },
    {
      "cell_type": "code",
      "source": "",
      "metadata": {
        "trusted": true
      },
      "outputs": [],
      "execution_count": null
    },
    {
      "cell_type": "code",
      "source": "",
      "metadata": {
        "trusted": true
      },
      "outputs": [],
      "execution_count": null
    },
    {
      "cell_type": "code",
      "source": "",
      "metadata": {
        "trusted": true
      },
      "outputs": [],
      "execution_count": null
    },
    {
      "cell_type": "code",
      "source": "",
      "metadata": {
        "trusted": true
      },
      "outputs": [],
      "execution_count": null
    },
    {
      "cell_type": "code",
      "source": "",
      "metadata": {
        "trusted": true
      },
      "outputs": [],
      "execution_count": null
    },
    {
      "cell_type": "code",
      "source": "",
      "metadata": {
        "trusted": true
      },
      "outputs": [],
      "execution_count": null
    },
    {
      "cell_type": "code",
      "source": "",
      "metadata": {
        "trusted": true
      },
      "outputs": [],
      "execution_count": null
    }
  ]
}